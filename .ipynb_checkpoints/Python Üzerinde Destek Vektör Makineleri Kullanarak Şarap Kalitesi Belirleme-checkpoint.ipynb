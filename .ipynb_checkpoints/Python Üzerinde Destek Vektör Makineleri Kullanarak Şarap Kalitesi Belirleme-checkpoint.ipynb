{
 "cells": [
  {
   "cell_type": "markdown",
   "id": "d80293b3",
   "metadata": {},
   "source": [
    "## Python Üzerinde Destek Vektör Makineleri Kullanarak Şarap Kalitesi Belirleme"
   ]
  },
  {
   "cell_type": "markdown",
   "id": "348ed478",
   "metadata": {},
   "source": [
    "Bu yazıda, sınıflandırma(classification) problemlerinde çok kullanılan ve en iyi yöntemler arasında sayılan bir makine öğrenmesi modelini Python üzerinde uygulayacağız. Bahsettiğimiz model sizin de muhtemelen aşina olduğunuz Destek Vektör Makineleri(Support Vector Machines) olacak. Bu modeli kullanarak kırmızı ve beyaz şarapların kalite sınıflandırmasını yapacağız. Bu kez konu da geçmiş konulara göre hayli ilginç olacak. Buna ek olarak, verideki her özelliğin işimize yarayıp yaramayacağı ile alakalı da bu kez farklı bir önlem alacağız. Daha önceki yazılarımızda “Feature Selection” yani değişken seçimini hem kendimiz el ile, hem de algoritmaya bırakarak onun yapmasını sağlayarak gerçekleştirmiştik. Fakat bu kez farklı bir işlem uygulayacak ve “Dimensionality Reduction” yani boyut düşürme gerçekleştireceğiz. Hem bu konunun, hem de SVM algoritmasının detaylarına yazıda yeri geldikçe değineceğim. Şimdi devam edelim. Öncelikle her zaman yaptığımız gibi veri setini tanıyalım, amacımızın ne olduğundan bahsedelim ve veri setinin kaynağının nerde bulunduğunu gösterelim.\n",
    "\n",
    "Verinin linki aşağıdadır:\n",
    "\n",
    "Wine Quality Data Set\n",
    "\n",
    "Veri seti, Portekiz “Vinho Verde” şarabının kırmızı ve beyaz biçimlerinin incelemesini barındırıyor. Girdi verisi bazı testler sonucunda ortaya çıkan PH değeri, yoğunluk, sülfür dioksit miktarı, alkol miktarı gibi değerleri içeriyor. Çıktı yani bağımlı değişken ise şarap uzmanları tarafından yapılan 3 değerlendirmenin median değerini içeriyor. Şaraplar 0’dan 10′ a kadar en kötüden başlamak üzere en iyiye doğru sınıflandırılmış. Biz de özellik(feature) değerlerini kullanarak bu kalite sınıfını belirlemeye çalışacağız.\n",
    "\n",
    "İşlemlerimize yine veri setini Python üzerine alarak başlayalım."
   ]
  },
  {
   "cell_type": "code",
   "execution_count": 6,
   "id": "71e964c9",
   "metadata": {},
   "outputs": [
    {
     "data": {
      "text/html": [
       "<div>\n",
       "<style scoped>\n",
       "    .dataframe tbody tr th:only-of-type {\n",
       "        vertical-align: middle;\n",
       "    }\n",
       "\n",
       "    .dataframe tbody tr th {\n",
       "        vertical-align: top;\n",
       "    }\n",
       "\n",
       "    .dataframe thead th {\n",
       "        text-align: right;\n",
       "    }\n",
       "</style>\n",
       "<table border=\"1\" class=\"dataframe\">\n",
       "  <thead>\n",
       "    <tr style=\"text-align: right;\">\n",
       "      <th></th>\n",
       "      <th>type</th>\n",
       "      <th>fixed acidity</th>\n",
       "      <th>volatile acidity</th>\n",
       "      <th>citric acid</th>\n",
       "      <th>residual sugar</th>\n",
       "      <th>chlorides</th>\n",
       "      <th>free sulfur dioxide</th>\n",
       "      <th>total sulfur dioxide</th>\n",
       "      <th>density</th>\n",
       "      <th>pH</th>\n",
       "      <th>sulphates</th>\n",
       "      <th>alcohol</th>\n",
       "      <th>quality</th>\n",
       "    </tr>\n",
       "  </thead>\n",
       "  <tbody>\n",
       "    <tr>\n",
       "      <th>0</th>\n",
       "      <td>white</td>\n",
       "      <td>7.0</td>\n",
       "      <td>0.27</td>\n",
       "      <td>0.36</td>\n",
       "      <td>20.7</td>\n",
       "      <td>0.045</td>\n",
       "      <td>45.0</td>\n",
       "      <td>170.0</td>\n",
       "      <td>1.0010</td>\n",
       "      <td>3.00</td>\n",
       "      <td>0.45</td>\n",
       "      <td>8.8</td>\n",
       "      <td>6</td>\n",
       "    </tr>\n",
       "    <tr>\n",
       "      <th>1</th>\n",
       "      <td>white</td>\n",
       "      <td>6.3</td>\n",
       "      <td>0.30</td>\n",
       "      <td>0.34</td>\n",
       "      <td>1.6</td>\n",
       "      <td>0.049</td>\n",
       "      <td>14.0</td>\n",
       "      <td>132.0</td>\n",
       "      <td>0.9940</td>\n",
       "      <td>3.30</td>\n",
       "      <td>0.49</td>\n",
       "      <td>9.5</td>\n",
       "      <td>6</td>\n",
       "    </tr>\n",
       "    <tr>\n",
       "      <th>2</th>\n",
       "      <td>white</td>\n",
       "      <td>8.1</td>\n",
       "      <td>0.28</td>\n",
       "      <td>0.40</td>\n",
       "      <td>6.9</td>\n",
       "      <td>0.050</td>\n",
       "      <td>30.0</td>\n",
       "      <td>97.0</td>\n",
       "      <td>0.9951</td>\n",
       "      <td>3.26</td>\n",
       "      <td>0.44</td>\n",
       "      <td>10.1</td>\n",
       "      <td>6</td>\n",
       "    </tr>\n",
       "    <tr>\n",
       "      <th>3</th>\n",
       "      <td>white</td>\n",
       "      <td>7.2</td>\n",
       "      <td>0.23</td>\n",
       "      <td>0.32</td>\n",
       "      <td>8.5</td>\n",
       "      <td>0.058</td>\n",
       "      <td>47.0</td>\n",
       "      <td>186.0</td>\n",
       "      <td>0.9956</td>\n",
       "      <td>3.19</td>\n",
       "      <td>0.40</td>\n",
       "      <td>9.9</td>\n",
       "      <td>6</td>\n",
       "    </tr>\n",
       "    <tr>\n",
       "      <th>4</th>\n",
       "      <td>white</td>\n",
       "      <td>7.2</td>\n",
       "      <td>0.23</td>\n",
       "      <td>0.32</td>\n",
       "      <td>8.5</td>\n",
       "      <td>0.058</td>\n",
       "      <td>47.0</td>\n",
       "      <td>186.0</td>\n",
       "      <td>0.9956</td>\n",
       "      <td>3.19</td>\n",
       "      <td>0.40</td>\n",
       "      <td>9.9</td>\n",
       "      <td>6</td>\n",
       "    </tr>\n",
       "  </tbody>\n",
       "</table>\n",
       "</div>"
      ],
      "text/plain": [
       "    type  fixed acidity  volatile acidity  citric acid  residual sugar  \\\n",
       "0  white            7.0              0.27         0.36            20.7   \n",
       "1  white            6.3              0.30         0.34             1.6   \n",
       "2  white            8.1              0.28         0.40             6.9   \n",
       "3  white            7.2              0.23         0.32             8.5   \n",
       "4  white            7.2              0.23         0.32             8.5   \n",
       "\n",
       "   chlorides  free sulfur dioxide  total sulfur dioxide  density    pH  \\\n",
       "0      0.045                 45.0                 170.0   1.0010  3.00   \n",
       "1      0.049                 14.0                 132.0   0.9940  3.30   \n",
       "2      0.050                 30.0                  97.0   0.9951  3.26   \n",
       "3      0.058                 47.0                 186.0   0.9956  3.19   \n",
       "4      0.058                 47.0                 186.0   0.9956  3.19   \n",
       "\n",
       "   sulphates  alcohol  quality  \n",
       "0       0.45      8.8        6  \n",
       "1       0.49      9.5        6  \n",
       "2       0.44     10.1        6  \n",
       "3       0.40      9.9        6  \n",
       "4       0.40      9.9        6  "
      ]
     },
     "execution_count": 6,
     "metadata": {},
     "output_type": "execute_result"
    }
   ],
   "source": [
    "import os\n",
    "os.getcwd()\n",
    "import pandas as pd\n",
    "import numpy as np\n",
    "Data = pd.read_csv('WineQuality.csv')\n",
    "Data_pd = pd.DataFrame(data=Data)\n",
    "Data_pd.head()"
   ]
  },
  {
   "cell_type": "markdown",
   "id": "6474f9c2",
   "metadata": {},
   "source": [
    "Her zamanki gibi çalışma klasörünü öğrendikten sonra veriyi oraya kopyaladık. Alternatif olarak tabii ki çalışma klasörünü de değiştirebilirdik. Çoğunlukla kullandığımız kütüphaneleri indirdik ve daha sonra “pd.read_csv” komutuyla veriyi içeri aldık. Veriyi bir “pandas” data frame nesnesine dönüştürdükten sonra satır ve sütun boyutlarını aynı zamanda da veri setinin giriş satırlarını inceledik. Sonuç:"
   ]
  },
  {
   "cell_type": "markdown",
   "id": "cae22d3b",
   "metadata": {},
   "source": [
    "Veri setinde 6497 satır ve 13 sütun var. Ya da bir başka değişle 13 değişkenin 6497 gözlemi var şeklinde de okuyabiliriz. Hatta bu şekilde okumak daha doğru olacaktır. Bu kez veri seti geçmiş yazılara göre daha ufak. Böyle bir veri seti seçmemin nedeni geçen seferki “Boosting” yazısında algoritma çalışmalarının oldukça uzun sürmesi ve bunun yarattığı sorunları çözmek. Bu sayede modelin daha kısa sürede oluşmasını ve efektif bir şekilde yazıyı tamamlamak istedim. Veri setinin ilk satırlarını da inceleyelim:"
   ]
  },
  {
   "cell_type": "markdown",
   "id": "dd815f98",
   "metadata": {},
   "source": [
    "Evet “head” komutunun sonucu da bu şekilde. Görüldüğü üzere üstte bahsettiğimiz gibi değişkenleri ağırlıklı olarak şarabın kimyasal özellikleri oluşturuyor.\n",
    "\n",
    "Devam edelim. Data preprocessing aşamasına geçelim ve neler yapmamız gerektiğine bakalım. Veri setindeki değişkenlerin tiplerine ve kayıp veri oranlarına bakalım. Daha sonra ise kategorik değişkenlerle ile ilgili gerekli nümerik kodlamaları ve kayıp verilere nasıl bir metod uygulayacağımızı belirleyelim."
   ]
  },
  {
   "cell_type": "code",
   "execution_count": 9,
   "id": "9522bfeb",
   "metadata": {},
   "outputs": [
    {
     "data": {
      "text/plain": [
       "type                     object\n",
       "fixed acidity           float64\n",
       "volatile acidity        float64\n",
       "citric acid             float64\n",
       "residual sugar          float64\n",
       "chlorides               float64\n",
       "free sulfur dioxide     float64\n",
       "total sulfur dioxide    float64\n",
       "density                 float64\n",
       "pH                      float64\n",
       "sulphates               float64\n",
       "alcohol                 float64\n",
       "quality                   int64\n",
       "dtype: object"
      ]
     },
     "execution_count": 9,
     "metadata": {},
     "output_type": "execute_result"
    }
   ],
   "source": [
    "Data_pd.dtypes"
   ]
  },
  {
   "cell_type": "code",
   "execution_count": 8,
   "id": "c3d6cbf5",
   "metadata": {},
   "outputs": [
    {
     "name": "stdout",
     "output_type": "stream",
     "text": [
      "<class 'pandas.core.frame.DataFrame'>\n",
      "RangeIndex: 6497 entries, 0 to 6496\n",
      "Data columns (total 13 columns):\n",
      " #   Column                Non-Null Count  Dtype  \n",
      "---  ------                --------------  -----  \n",
      " 0   type                  6497 non-null   object \n",
      " 1   fixed acidity         6487 non-null   float64\n",
      " 2   volatile acidity      6489 non-null   float64\n",
      " 3   citric acid           6494 non-null   float64\n",
      " 4   residual sugar        6495 non-null   float64\n",
      " 5   chlorides             6495 non-null   float64\n",
      " 6   free sulfur dioxide   6497 non-null   float64\n",
      " 7   total sulfur dioxide  6497 non-null   float64\n",
      " 8   density               6497 non-null   float64\n",
      " 9   pH                    6488 non-null   float64\n",
      " 10  sulphates             6493 non-null   float64\n",
      " 11  alcohol               6497 non-null   float64\n",
      " 12  quality               6497 non-null   int64  \n",
      "dtypes: float64(11), int64(1), object(1)\n",
      "memory usage: 660.0+ KB\n"
     ]
    }
   ],
   "source": [
    "Data_pd.info()"
   ]
  },
  {
   "cell_type": "code",
   "execution_count": 5,
   "id": "4c35707e",
   "metadata": {},
   "outputs": [
    {
     "data": {
      "text/plain": [
       "1143"
      ]
     },
     "execution_count": 5,
     "metadata": {},
     "output_type": "execute_result"
    }
   ],
   "source": [
    "len(Data_pd)"
   ]
  },
  {
   "cell_type": "code",
   "execution_count": 10,
   "id": "3c98383f",
   "metadata": {},
   "outputs": [
    {
     "data": {
      "text/plain": [
       "type                     object\n",
       "fixed acidity           float64\n",
       "volatile acidity        float64\n",
       "citric acid             float64\n",
       "residual sugar          float64\n",
       "chlorides               float64\n",
       "free sulfur dioxide     float64\n",
       "total sulfur dioxide    float64\n",
       "density                 float64\n",
       "pH                      float64\n",
       "sulphates               float64\n",
       "alcohol                 float64\n",
       "quality                   int64\n",
       "dtype: object"
      ]
     },
     "execution_count": 10,
     "metadata": {},
     "output_type": "execute_result"
    }
   ],
   "source": [
    "Data_pd.dtypes"
   ]
  },
  {
   "cell_type": "markdown",
   "id": "49f23220",
   "metadata": {},
   "source": [
    "Evet görüldüğü üzere bir kolon kategorik geriye kalanlar ise float ve integer. Bu durumda kodlamamız gereken tek değişken “type”. Birde kayıp veri oranlarını inceleyelim ve belli bir eşiğin üzerinde kayıp veri içeren satır veya sütunları çıkaralım. Bunu yapmamızın sebebi “imputation” veya diğer metodların yüksek kayıp veri içeren sütunlarda uygulanmasının uygun olmaması. Çünkü bu durumda kolona yüksek düzeyde “bias” katmış olabiliriz. Bu da kolonun doğal yapısının bozulmasına sebep olacaktır. Kayıp veri oranlarını inceleyelim:"
   ]
  },
  {
   "cell_type": "code",
   "execution_count": 11,
   "id": "8568330d",
   "metadata": {},
   "outputs": [
    {
     "data": {
      "text/plain": [
       "0       0\n",
       "1       0\n",
       "2       0\n",
       "3       0\n",
       "4       0\n",
       "       ..\n",
       "6492    0\n",
       "6493    1\n",
       "6494    0\n",
       "6495    0\n",
       "6496    0\n",
       "Length: 6497, dtype: int64"
      ]
     },
     "execution_count": 11,
     "metadata": {},
     "output_type": "execute_result"
    }
   ],
   "source": [
    "Data_pd.isnull().sum(axis=0)\n",
    "Data_pd.isnull().sum(axis=1)"
   ]
  },
  {
   "cell_type": "markdown",
   "id": "67efa496",
   "metadata": {},
   "source": [
    "Evet aslında bu noktada ilginç bir durumla karşı karşıyayız. Veri setinde kayıp veri içeren satır veya sütun bulunmuyor. Bu biraz iyimser bir durum. Aslına bakarsanız bayağı iyimser bir durum. Veriye dair genel bir bakış açısı kazanmak adına aşağıdaki kod bloğunu çalıştıralım."
   ]
  },
  {
   "cell_type": "code",
   "execution_count": 12,
   "id": "888d3c37",
   "metadata": {},
   "outputs": [
    {
     "data": {
      "text/html": [
       "<div>\n",
       "<style scoped>\n",
       "    .dataframe tbody tr th:only-of-type {\n",
       "        vertical-align: middle;\n",
       "    }\n",
       "\n",
       "    .dataframe tbody tr th {\n",
       "        vertical-align: top;\n",
       "    }\n",
       "\n",
       "    .dataframe thead th {\n",
       "        text-align: right;\n",
       "    }\n",
       "</style>\n",
       "<table border=\"1\" class=\"dataframe\">\n",
       "  <thead>\n",
       "    <tr style=\"text-align: right;\">\n",
       "      <th></th>\n",
       "      <th>type</th>\n",
       "      <th>fixed acidity</th>\n",
       "      <th>volatile acidity</th>\n",
       "      <th>citric acid</th>\n",
       "      <th>residual sugar</th>\n",
       "      <th>chlorides</th>\n",
       "      <th>free sulfur dioxide</th>\n",
       "      <th>total sulfur dioxide</th>\n",
       "      <th>density</th>\n",
       "      <th>pH</th>\n",
       "      <th>sulphates</th>\n",
       "      <th>alcohol</th>\n",
       "      <th>quality</th>\n",
       "    </tr>\n",
       "  </thead>\n",
       "  <tbody>\n",
       "    <tr>\n",
       "      <th>count</th>\n",
       "      <td>6497</td>\n",
       "      <td>6487.000000</td>\n",
       "      <td>6489.000000</td>\n",
       "      <td>6494.000000</td>\n",
       "      <td>6495.000000</td>\n",
       "      <td>6495.000000</td>\n",
       "      <td>6497.000000</td>\n",
       "      <td>6497.000000</td>\n",
       "      <td>6497.000000</td>\n",
       "      <td>6488.000000</td>\n",
       "      <td>6493.000000</td>\n",
       "      <td>6497.000000</td>\n",
       "      <td>6497.000000</td>\n",
       "    </tr>\n",
       "    <tr>\n",
       "      <th>unique</th>\n",
       "      <td>2</td>\n",
       "      <td>NaN</td>\n",
       "      <td>NaN</td>\n",
       "      <td>NaN</td>\n",
       "      <td>NaN</td>\n",
       "      <td>NaN</td>\n",
       "      <td>NaN</td>\n",
       "      <td>NaN</td>\n",
       "      <td>NaN</td>\n",
       "      <td>NaN</td>\n",
       "      <td>NaN</td>\n",
       "      <td>NaN</td>\n",
       "      <td>NaN</td>\n",
       "    </tr>\n",
       "    <tr>\n",
       "      <th>top</th>\n",
       "      <td>white</td>\n",
       "      <td>NaN</td>\n",
       "      <td>NaN</td>\n",
       "      <td>NaN</td>\n",
       "      <td>NaN</td>\n",
       "      <td>NaN</td>\n",
       "      <td>NaN</td>\n",
       "      <td>NaN</td>\n",
       "      <td>NaN</td>\n",
       "      <td>NaN</td>\n",
       "      <td>NaN</td>\n",
       "      <td>NaN</td>\n",
       "      <td>NaN</td>\n",
       "    </tr>\n",
       "    <tr>\n",
       "      <th>freq</th>\n",
       "      <td>4898</td>\n",
       "      <td>NaN</td>\n",
       "      <td>NaN</td>\n",
       "      <td>NaN</td>\n",
       "      <td>NaN</td>\n",
       "      <td>NaN</td>\n",
       "      <td>NaN</td>\n",
       "      <td>NaN</td>\n",
       "      <td>NaN</td>\n",
       "      <td>NaN</td>\n",
       "      <td>NaN</td>\n",
       "      <td>NaN</td>\n",
       "      <td>NaN</td>\n",
       "    </tr>\n",
       "    <tr>\n",
       "      <th>mean</th>\n",
       "      <td>NaN</td>\n",
       "      <td>7.216579</td>\n",
       "      <td>0.339691</td>\n",
       "      <td>0.318722</td>\n",
       "      <td>5.444326</td>\n",
       "      <td>0.056042</td>\n",
       "      <td>30.525319</td>\n",
       "      <td>115.744574</td>\n",
       "      <td>0.994697</td>\n",
       "      <td>3.218395</td>\n",
       "      <td>0.531215</td>\n",
       "      <td>10.491801</td>\n",
       "      <td>5.818378</td>\n",
       "    </tr>\n",
       "    <tr>\n",
       "      <th>std</th>\n",
       "      <td>NaN</td>\n",
       "      <td>1.296750</td>\n",
       "      <td>0.164649</td>\n",
       "      <td>0.145265</td>\n",
       "      <td>4.758125</td>\n",
       "      <td>0.035036</td>\n",
       "      <td>17.749400</td>\n",
       "      <td>56.521855</td>\n",
       "      <td>0.002999</td>\n",
       "      <td>0.160748</td>\n",
       "      <td>0.148814</td>\n",
       "      <td>1.192712</td>\n",
       "      <td>0.873255</td>\n",
       "    </tr>\n",
       "    <tr>\n",
       "      <th>min</th>\n",
       "      <td>NaN</td>\n",
       "      <td>3.800000</td>\n",
       "      <td>0.080000</td>\n",
       "      <td>0.000000</td>\n",
       "      <td>0.600000</td>\n",
       "      <td>0.009000</td>\n",
       "      <td>1.000000</td>\n",
       "      <td>6.000000</td>\n",
       "      <td>0.987110</td>\n",
       "      <td>2.720000</td>\n",
       "      <td>0.220000</td>\n",
       "      <td>8.000000</td>\n",
       "      <td>3.000000</td>\n",
       "    </tr>\n",
       "    <tr>\n",
       "      <th>25%</th>\n",
       "      <td>NaN</td>\n",
       "      <td>6.400000</td>\n",
       "      <td>0.230000</td>\n",
       "      <td>0.250000</td>\n",
       "      <td>1.800000</td>\n",
       "      <td>0.038000</td>\n",
       "      <td>17.000000</td>\n",
       "      <td>77.000000</td>\n",
       "      <td>0.992340</td>\n",
       "      <td>3.110000</td>\n",
       "      <td>0.430000</td>\n",
       "      <td>9.500000</td>\n",
       "      <td>5.000000</td>\n",
       "    </tr>\n",
       "    <tr>\n",
       "      <th>50%</th>\n",
       "      <td>NaN</td>\n",
       "      <td>7.000000</td>\n",
       "      <td>0.290000</td>\n",
       "      <td>0.310000</td>\n",
       "      <td>3.000000</td>\n",
       "      <td>0.047000</td>\n",
       "      <td>29.000000</td>\n",
       "      <td>118.000000</td>\n",
       "      <td>0.994890</td>\n",
       "      <td>3.210000</td>\n",
       "      <td>0.510000</td>\n",
       "      <td>10.300000</td>\n",
       "      <td>6.000000</td>\n",
       "    </tr>\n",
       "    <tr>\n",
       "      <th>75%</th>\n",
       "      <td>NaN</td>\n",
       "      <td>7.700000</td>\n",
       "      <td>0.400000</td>\n",
       "      <td>0.390000</td>\n",
       "      <td>8.100000</td>\n",
       "      <td>0.065000</td>\n",
       "      <td>41.000000</td>\n",
       "      <td>156.000000</td>\n",
       "      <td>0.996990</td>\n",
       "      <td>3.320000</td>\n",
       "      <td>0.600000</td>\n",
       "      <td>11.300000</td>\n",
       "      <td>6.000000</td>\n",
       "    </tr>\n",
       "    <tr>\n",
       "      <th>max</th>\n",
       "      <td>NaN</td>\n",
       "      <td>15.900000</td>\n",
       "      <td>1.580000</td>\n",
       "      <td>1.660000</td>\n",
       "      <td>65.800000</td>\n",
       "      <td>0.611000</td>\n",
       "      <td>289.000000</td>\n",
       "      <td>440.000000</td>\n",
       "      <td>1.038980</td>\n",
       "      <td>4.010000</td>\n",
       "      <td>2.000000</td>\n",
       "      <td>14.900000</td>\n",
       "      <td>9.000000</td>\n",
       "    </tr>\n",
       "  </tbody>\n",
       "</table>\n",
       "</div>"
      ],
      "text/plain": [
       "         type  fixed acidity  volatile acidity  citric acid  residual sugar  \\\n",
       "count    6497    6487.000000       6489.000000  6494.000000     6495.000000   \n",
       "unique      2            NaN               NaN          NaN             NaN   \n",
       "top     white            NaN               NaN          NaN             NaN   \n",
       "freq     4898            NaN               NaN          NaN             NaN   \n",
       "mean      NaN       7.216579          0.339691     0.318722        5.444326   \n",
       "std       NaN       1.296750          0.164649     0.145265        4.758125   \n",
       "min       NaN       3.800000          0.080000     0.000000        0.600000   \n",
       "25%       NaN       6.400000          0.230000     0.250000        1.800000   \n",
       "50%       NaN       7.000000          0.290000     0.310000        3.000000   \n",
       "75%       NaN       7.700000          0.400000     0.390000        8.100000   \n",
       "max       NaN      15.900000          1.580000     1.660000       65.800000   \n",
       "\n",
       "          chlorides  free sulfur dioxide  total sulfur dioxide      density  \\\n",
       "count   6495.000000          6497.000000           6497.000000  6497.000000   \n",
       "unique          NaN                  NaN                   NaN          NaN   \n",
       "top             NaN                  NaN                   NaN          NaN   \n",
       "freq            NaN                  NaN                   NaN          NaN   \n",
       "mean       0.056042            30.525319            115.744574     0.994697   \n",
       "std        0.035036            17.749400             56.521855     0.002999   \n",
       "min        0.009000             1.000000              6.000000     0.987110   \n",
       "25%        0.038000            17.000000             77.000000     0.992340   \n",
       "50%        0.047000            29.000000            118.000000     0.994890   \n",
       "75%        0.065000            41.000000            156.000000     0.996990   \n",
       "max        0.611000           289.000000            440.000000     1.038980   \n",
       "\n",
       "                 pH    sulphates      alcohol      quality  \n",
       "count   6488.000000  6493.000000  6497.000000  6497.000000  \n",
       "unique          NaN          NaN          NaN          NaN  \n",
       "top             NaN          NaN          NaN          NaN  \n",
       "freq            NaN          NaN          NaN          NaN  \n",
       "mean       3.218395     0.531215    10.491801     5.818378  \n",
       "std        0.160748     0.148814     1.192712     0.873255  \n",
       "min        2.720000     0.220000     8.000000     3.000000  \n",
       "25%        3.110000     0.430000     9.500000     5.000000  \n",
       "50%        3.210000     0.510000    10.300000     6.000000  \n",
       "75%        3.320000     0.600000    11.300000     6.000000  \n",
       "max        4.010000     2.000000    14.900000     9.000000  "
      ]
     },
     "execution_count": 12,
     "metadata": {},
     "output_type": "execute_result"
    }
   ],
   "source": [
    "Data_pd.describe(include='all')"
   ]
  },
  {
   "cell_type": "markdown",
   "id": "773094c2",
   "metadata": {},
   "source": [
    "Evet aslında bu komut bir veri setini tanımak adına çok kullanışlı bir komut. Örneğin; “type” kategorik değişkenin 6497 gözlemi olduğunu, 2 seviyesi(kategorisi) olduğunu ve bunların 4898 tanesinin “white” yani beyaz şarap olduğunu görebiliyoruz. Ek olarak ortalama, standart sapma gibi nümerik değerler de “NaN” olarak gözüküyor ki bu gayet doğal. Çünkü bunları nümerik değişkenlerde hesaplayabiliyoruz. Nümerik değişkenlere bakarsak bu tarz değerler hesaplanmış fakat bu kez de kategorik değişkenlerde bulunan özellikler “NaN” olarak gözüküyor. Bu komut vasıtasıyla veri setine dair genel bir kanıya sahip olduk. Devam edelim.\n",
    "\n",
    "Bu aşamada veride dengesiz sınıf problemi olup olmadığını incelemek de faydamıza olacaktır. Çünkü artık biliyorsunuz ki böyle bir problem ile karşı karşıya isek, bunun için alacağımız önlemler farklı olmak zorunda. Aşağıdaki kod bloğu ile inceleyelim:"
   ]
  },
  {
   "cell_type": "code",
   "execution_count": 13,
   "id": "0a314592",
   "metadata": {},
   "outputs": [
    {
     "name": "stdout",
     "output_type": "stream",
     "text": [
      "quality\n",
      "3    0.004618\n",
      "4    0.033246\n",
      "5    0.329075\n",
      "6    0.436509\n",
      "7    0.166077\n",
      "8    0.029706\n",
      "9    0.000770\n",
      "dtype: float64\n"
     ]
    }
   ],
   "source": [
    "Groups = (Data_pd.groupby('quality').size())/len(Data_pd)\n",
    "print(Groups)"
   ]
  },
  {
   "cell_type": "markdown",
   "id": "85539efc",
   "metadata": {},
   "source": [
    "Evet dağılım bu şekilde. Dağılımın dengesiz olduğunu net olarak görebiliyoruz. Örneğin 6 numaralı kalite grubu %43 oranında bulunurken, 4 numaralı grup %3, 3 numaralı grup %0.04 ve 9 numaralı grup ise %0.007 oranında bulunuyor. Bu değerlere göre bu problem aslında bir “outlier detection” problemine çok benzer. Bu değerler bize bir “outlier” oranını hatırlatıyor. Bu yüzden biz de önlemlerimizi buna göre alarak devam edeceğiz. Bunu görselleştirerek sınıf dengesizliğini daha net görelim. Bu kez yüzdeleri değil sayıları kullanalım:"
   ]
  },
  {
   "cell_type": "code",
   "execution_count": 15,
   "id": "309b1be6",
   "metadata": {},
   "outputs": [
    {
     "data": {
      "text/html": [
       "<div>\n",
       "<style scoped>\n",
       "    .dataframe tbody tr th:only-of-type {\n",
       "        vertical-align: middle;\n",
       "    }\n",
       "\n",
       "    .dataframe tbody tr th {\n",
       "        vertical-align: top;\n",
       "    }\n",
       "\n",
       "    .dataframe thead th {\n",
       "        text-align: right;\n",
       "    }\n",
       "</style>\n",
       "<table border=\"1\" class=\"dataframe\">\n",
       "  <thead>\n",
       "    <tr style=\"text-align: right;\">\n",
       "      <th></th>\n",
       "      <th>0</th>\n",
       "    </tr>\n",
       "    <tr>\n",
       "      <th>quality</th>\n",
       "      <th></th>\n",
       "    </tr>\n",
       "  </thead>\n",
       "  <tbody>\n",
       "    <tr>\n",
       "      <th>3</th>\n",
       "      <td>30</td>\n",
       "    </tr>\n",
       "    <tr>\n",
       "      <th>4</th>\n",
       "      <td>216</td>\n",
       "    </tr>\n",
       "    <tr>\n",
       "      <th>5</th>\n",
       "      <td>2138</td>\n",
       "    </tr>\n",
       "    <tr>\n",
       "      <th>6</th>\n",
       "      <td>2836</td>\n",
       "    </tr>\n",
       "    <tr>\n",
       "      <th>7</th>\n",
       "      <td>1079</td>\n",
       "    </tr>\n",
       "    <tr>\n",
       "      <th>8</th>\n",
       "      <td>193</td>\n",
       "    </tr>\n",
       "    <tr>\n",
       "      <th>9</th>\n",
       "      <td>5</td>\n",
       "    </tr>\n",
       "  </tbody>\n",
       "</table>\n",
       "</div>"
      ],
      "text/plain": [
       "            0\n",
       "quality      \n",
       "3          30\n",
       "4         216\n",
       "5        2138\n",
       "6        2836\n",
       "7        1079\n",
       "8         193\n",
       "9           5"
      ]
     },
     "execution_count": 15,
     "metadata": {},
     "output_type": "execute_result"
    }
   ],
   "source": [
    "Counts = pd.DataFrame(Data_pd.groupby('quality').size())\n",
    "Counts"
   ]
  },
  {
   "cell_type": "code",
   "execution_count": 18,
   "id": "fa9d5769",
   "metadata": {},
   "outputs": [
    {
     "data": {
      "image/png": "[encoded data removed]",
      "text/plain": [
       "<Figure size 640x480 with 1 Axes>"
      ]
     },
     "metadata": {},
     "output_type": "display_data"
    }
   ],
   "source": [
    "import matplotlib.pyplot as plt\n",
    "Counts.plot(kind='bar')\n",
    "plt.title('Quality Classification')\n",
    "plt.xlabel('Quality')\n",
    "plt.ylabel('Count')\n",
    "plt.grid(which='major', linestyle='-', linewidth='0.5', color='green')\n",
    "plt.grid(which='minor', linestyle=':', linewidth='0.5', color='black')\n",
    "plt.show()"
   ]
  },
  {
   "cell_type": "markdown",
   "id": "dcb4235f",
   "metadata": {},
   "source": [
    "Üstteki kod bloğu ile “matplotlib” kütüphanesini indiriyoruz. Bu kütüphane veri görselleştirmede aktif olarak kullanılan ve başta gelen kütüphanedir. “Counts” adlı bir nesne oluşturup grup dağılımını o nesneye atıyoruz ve daha sonra “plot” komutunun içine “kind=’bar'” argümanını veriyoruz böylece bar plot istediğimizi belirtiyoruz. Sonrasında eksenlerin ve grafiğin ismini ayarladıktan sonra arka planı “.grid” komutu ile düzeltiyor ve grafiği gösteriyoruz:"
   ]
  },
  {
   "cell_type": "markdown",
   "id": "596b1169",
   "metadata": {},
   "source": [
    "Evet sınıf dengesizliği buradan da net olarak görülebiliyor. 5,6 ve 7 numaralı sınıflar domine ederken, 3 ve 9 neredeyse görülemeyecek kadar az. Bu da az önce yaptığımız çıkarımı güçlendiriyor.\n",
    "\n",
    "Data preprocessing aşamasına geçerek devam edelim. Kayıp veri olmadığı için, o kısımla alakalı bir işlem yapmayacağız. Bu yüzden ikinci aşama olan kategorik değişkeni kodlama kısmına geçelim. Elimizdeki veri setinde hatırlarsınız ki sadece bir adet kategorik değişken vardı. Bu değişkeni kodlayarak bu kısmı da bitireceğiz. Aşağıdaki kod bloğuyla gerçekleştirelim:"
   ]
  },
  {
   "cell_type": "code",
   "execution_count": 20,
   "id": "4c53b513",
   "metadata": {},
   "outputs": [],
   "source": [
    "X = Data_pd.iloc[:, 0:12].values\n",
    "Y = Data_pd.iloc[:, 12].values"
   ]
  },
  {
   "cell_type": "code",
   "execution_count": 22,
   "id": "193b8f67",
   "metadata": {},
   "outputs": [
    {
     "ename": "TypeError",
     "evalue": "__init__() got an unexpected keyword argument 'categorical_features'",
     "output_type": "error",
     "traceback": [
      "\u001b[0;31m---------------------------------------------------------------------------\u001b[0m",
      "\u001b[0;31mTypeError\u001b[0m                                 Traceback (most recent call last)",
      "\u001b[0;32m/var/folders/c1/y0qhw1q54ys1fs7mkjx0j_8m0000gn/T/ipykernel_3188/2735524901.py\u001b[0m in \u001b[0;36m<module>\u001b[0;34m\u001b[0m\n\u001b[1;32m      2\u001b[0m \u001b[0mLE_X\u001b[0m \u001b[0;34m=\u001b[0m \u001b[0mLabelEncoder\u001b[0m\u001b[0;34m(\u001b[0m\u001b[0;34m)\u001b[0m\u001b[0;34m\u001b[0m\u001b[0;34m\u001b[0m\u001b[0m\n\u001b[1;32m      3\u001b[0m \u001b[0mX\u001b[0m\u001b[0;34m[\u001b[0m\u001b[0;34m:\u001b[0m\u001b[0;34m,\u001b[0m \u001b[0;36m0\u001b[0m\u001b[0;34m]\u001b[0m \u001b[0;34m=\u001b[0m \u001b[0mLE_X\u001b[0m\u001b[0;34m.\u001b[0m\u001b[0mfit_transform\u001b[0m\u001b[0;34m(\u001b[0m\u001b[0mX\u001b[0m\u001b[0;34m[\u001b[0m\u001b[0;34m:\u001b[0m\u001b[0;34m,\u001b[0m \u001b[0;36m0\u001b[0m\u001b[0;34m]\u001b[0m\u001b[0;34m)\u001b[0m\u001b[0;34m\u001b[0m\u001b[0;34m\u001b[0m\u001b[0m\n\u001b[0;32m----> 4\u001b[0;31m \u001b[0mOHE\u001b[0m \u001b[0;34m=\u001b[0m \u001b[0mOneHotEncoder\u001b[0m\u001b[0;34m(\u001b[0m\u001b[0mcategorical_features\u001b[0m\u001b[0;34m=\u001b[0m\u001b[0;34m[\u001b[0m\u001b[0;36m0\u001b[0m\u001b[0;34m]\u001b[0m\u001b[0;34m)\u001b[0m\u001b[0;34m\u001b[0m\u001b[0;34m\u001b[0m\u001b[0m\n\u001b[0m\u001b[1;32m      5\u001b[0m \u001b[0mX\u001b[0m \u001b[0;34m=\u001b[0m \u001b[0mOHE\u001b[0m\u001b[0;34m.\u001b[0m\u001b[0mfit_transform\u001b[0m\u001b[0;34m(\u001b[0m\u001b[0mX\u001b[0m\u001b[0;34m)\u001b[0m\u001b[0;34m.\u001b[0m\u001b[0mtoarray\u001b[0m\u001b[0;34m(\u001b[0m\u001b[0;34m)\u001b[0m\u001b[0;34m\u001b[0m\u001b[0;34m\u001b[0m\u001b[0m\n",
      "\u001b[0;31mTypeError\u001b[0m: __init__() got an unexpected keyword argument 'categorical_features'"
     ]
    }
   ],
   "source": [
    "from sklearn.preprocessing import LabelEncoder, OneHotEncoder\n",
    "LE_X = LabelEncoder()\n",
    "X[:, 0] = LE_X.fit_transform(X[:, 0])\n",
    "OHE = OneHotEncoder(categorical_features=[0])\n",
    "X = OHE.fit_transform(X).toarray()"
   ]
  },
  {
   "cell_type": "markdown",
   "id": "abce82b8",
   "metadata": {},
   "source": [
    "Evet üstteki kod bloğunu açıklayalım. İlk bölümde veri setindeki hangi değişkenlerin bağımlı ve hangi değişkenlerin bağımsız olduğunu Python’a tanıtıyoruz. Burada “.iloc” komutu ile beraber bu kolonların indekslerini vererek “.values” ile de bunları istediğimiz formata çevirdik. Verisetinde 13 değişken olduğundan ve Python’da indeksler 0’dan başladığından dolayı indeks numaralarını da bu şekilde verdik. Burada neden bağımsız değişkenlerde “0:12” aralığını verdiğimi soracak olursanız, bu indeks dizisinin başlangıcı kapalı, sonu açık aralık yani son indeks numarasını değil bir öncekini seriye katıyor. İkinci bölümde, “sklearn” kütüphanesinin “preprocessing” modülünden gerekli kodlayıcıları çağırdık ve bunların nesnelerini tanımladık. Kategorik değişkenin indeksi 0 olduğu için öncelikle “LabelEncoder” nesnesine “.fit_transform” metoduyla bu değişkeni kodlamasını söyledik. Bu kodlama unutmayın ki “Red” ve “White” kategorilerini 1 ve 2 olarak kodluyor. Fakat bizim bu kategorik değişkenimizde kategoriler arasında bir seviye farkı bulunmadığından dolayı, bu 1 ve 2 sayılarının işleme girdiğinde normal sayılar olarak algılanmasına neden olacak böylece bir seviye farkı varmış gibi işleme girecekler. İşte bu durumun önüne geçmek adına “One Hot Encoding” metodunu kullandık. Bu metoddan bahsetmiştik. Bu metod “type” değişkenini iki değişkene ayıracak ve bir tanesi “Red”, bir tanesi de “White” için olacak. Eğer şarap kırmızı ise “Red” kolonunda 1 “White” kolonunda 0, beyaz ise tam tersi olacak. Bu metodun kodlanmasında bir önceki metoda göre farklı olduğu nokta ise kategorik değişkenin indeksinin nesne tanımlanırken içeride veriliyor olması. Son olarak “.toarray” komutu da bu verileri bir “numpy array” türüne dönüştürüyor. Sonuca bakacak olursak:"
   ]
  },
  {
   "cell_type": "code",
   "execution_count": 23,
   "id": "37af44a4",
   "metadata": {},
   "outputs": [
    {
     "name": "stdout",
     "output_type": "stream",
     "text": [
      "[[1 7.0 0.27 ... 3.0 0.45 8.8]\n",
      " [1 6.3 0.3 ... 3.3 0.49 9.5]\n",
      " [1 8.1 0.28 ... 3.26 0.44 10.1]\n",
      " ...\n",
      " [0 6.3 0.51 ... 3.42 0.75 11.0]\n",
      " [0 5.9 0.645 ... 3.57 0.71 10.2]\n",
      " [0 6.0 0.31 ... 3.39 0.66 11.0]]\n"
     ]
    }
   ],
   "source": [
    "print(X)"
   ]
  },
  {
   "cell_type": "markdown",
   "id": "6c0959dd",
   "metadata": {},
   "source": [
    "Evet ilk iki kolon az önce bahsettiğimiz “dummy” kolonlar. Böylece kategorik değişkenleri kodlama işini çözdük. Devam edelim.\n",
    "\n",
    "Şimdi yine daha önceki yazılarımızda uyguladığımız “Feature Scaling” aşamasını gerçekleştireceğiz. SVM algoritmasında işimize yarayacağı için bunu gerçekleştiriyoruz. Aşağıdaki kod bloğu ile uygulayalım:"
   ]
  },
  {
   "cell_type": "code",
   "execution_count": 25,
   "id": "ac67a728",
   "metadata": {},
   "outputs": [
    {
     "name": "stdout",
     "output_type": "stream",
     "text": [
      "[[ 0.57136659 -0.16702991 -0.42330275 ... -1.35872244 -0.54579101\n",
      "  -1.41855821]\n",
      " [ 0.57136659 -0.70688264 -0.24108295 ...  0.507693   -0.27697861\n",
      "  -0.83161516]\n",
      " [ 0.57136659  0.68131011 -0.36256282 ...  0.25883761 -0.61299411\n",
      "  -0.32852111]\n",
      " ...\n",
      " [-1.75018984 -0.70688264  1.03445559 ...  1.25425918  1.47030196\n",
      "   0.42611996]\n",
      " [-1.75018984 -1.01536992  1.85444466 ...  2.1874669   1.20148957\n",
      "  -0.2446721 ]\n",
      " [-1.75018984 -0.9382481  -0.18034302 ...  1.06761764  0.86547407\n",
      "   0.42611996]]\n"
     ]
    }
   ],
   "source": [
    "from sklearn.preprocessing import StandardScaler\n",
    "sc = StandardScaler()\n",
    "X = sc.fit_transform(X)\n",
    "print(X)"
   ]
  },
  {
   "cell_type": "markdown",
   "id": "bb9825e8",
   "metadata": {},
   "source": [
    "Evet burada da yine gerekli kütüphaneden modülü indirdik ve bu modülün bir nesnesini oluşturduk. Daha sonra da “fit_transform” metodu ile veriyi bu şekle dönüştürdük ve işlemi tamamladık. Sonuca yine bakalım:"
   ]
  },
  {
   "cell_type": "markdown",
   "id": "bc76cff7",
   "metadata": {},
   "source": [
    "Data preprocessing aşamasında böylece son bir adım kaldı. Onu da aşağı yukarı tahmin ediyorsunuzdur. Veriyi train ve test set olmak üzere ikiye bölmek. Burada yine dikkat çekmek istiyorum ki validation set oluşturmuyorum. Çünkü elimizde zaten 6000 küsür gibi az miktarda bir veri var. Bu böyle bir veri miktarına sahipsek bizim için en uygun metod cross-validation olacaktır. Devam edelim:"
   ]
  },
  {
   "cell_type": "code",
   "execution_count": 27,
   "id": "c1c54968",
   "metadata": {},
   "outputs": [
    {
     "name": "stdout",
     "output_type": "stream",
     "text": [
      "5197\n",
      "1300\n"
     ]
    }
   ],
   "source": [
    "from sklearn.model_selection import train_test_split\n",
    "X_train, X_test, Y_train, Y_test = train_test_split(X, Y, test_size=0.2, random_state=0)\n",
    "print(len(X_train))\n",
    "print(len(X_test))"
   ]
  },
  {
   "cell_type": "markdown",
   "id": "3a8c1564",
   "metadata": {},
   "source": [
    "Burada da verinin %80’ini train sete, geriye kalan %20’sini ise test sete ayırdık. Fonksiyon içerisindeki “random_state” argümanı ise her çalıştığında aynı sonucun üretilmesini sağlayan bir sabitleyici. Veri kümelerinin büyüklüklerine bakarak doğru çalışıp çalışmadığını inceleyelim:"
   ]
  },
  {
   "cell_type": "markdown",
   "id": "87ccf23f",
   "metadata": {},
   "source": [
    "Evet gördüğünüz gibi train setin büyüklüğü 5197 iken test setin büyüklüğü 1300 civarı. Bu da oranlamanın doğru olduğunu gösteriyor. Dikkat edelim ki yine ana veride olduğu gibi train ve test setlerde de bağımlı ve bağımsız değişkenleri ayırdık. R üzerinde çalışırken böyle bir şey yapmıyoruz fakat Python üzerinde bu şekilde çalışıyoruz.\n",
    "\n",
    "Hatırlayalım ki veri setinde sınıf dengesizliği vardı. Bu yüzden daha önceki yazılarımızda olduğu gibi SMOTE metoduyla veri setini dengeleyip her sınıfa yeteri kadar gözlem sağlayalım:"
   ]
  },
  {
   "cell_type": "code",
   "execution_count": 40,
   "id": "c79738a9",
   "metadata": {
    "scrolled": true
   },
   "outputs": [
    {
     "name": "stdout",
     "output_type": "stream",
     "text": [
      "imblearn                      0.0\n",
      "Note: you may need to restart the kernel to use updated packages.\n"
     ]
    }
   ],
   "source": [
    "pip list | grep imblearn"
   ]
  },
  {
   "cell_type": "code",
   "execution_count": 41,
   "id": "a827e9c0",
   "metadata": {},
   "outputs": [
    {
     "name": "stdout",
     "output_type": "stream",
     "text": [
      "Requirement already satisfied: imblearn in /Users/arifaygun/opt/anaconda3/lib/python3.9/site-packages (0.0)\n",
      "Requirement already satisfied: imbalanced-learn in /Users/arifaygun/opt/anaconda3/lib/python3.9/site-packages (from imblearn) (0.10.1)\n",
      "Requirement already satisfied: joblib>=1.1.1 in /Users/arifaygun/opt/anaconda3/lib/python3.9/site-packages (from imbalanced-learn->imblearn) (1.2.0)\n",
      "Requirement already satisfied: numpy>=1.17.3 in /Users/arifaygun/opt/anaconda3/lib/python3.9/site-packages (from imbalanced-learn->imblearn) (1.21.5)\n",
      "Requirement already satisfied: scikit-learn>=1.0.2 in /Users/arifaygun/opt/anaconda3/lib/python3.9/site-packages (from imbalanced-learn->imblearn) (1.0.2)\n",
      "Requirement already satisfied: threadpoolctl>=2.0.0 in /Users/arifaygun/opt/anaconda3/lib/python3.9/site-packages (from imbalanced-learn->imblearn) (2.2.0)\n",
      "Requirement already satisfied: scipy>=1.3.2 in /Users/arifaygun/opt/anaconda3/lib/python3.9/site-packages (from imbalanced-learn->imblearn) (1.9.1)\n",
      "Note: you may need to restart the kernel to use updated packages.\n"
     ]
    }
   ],
   "source": [
    "pip install imblearn"
   ]
  },
  {
   "cell_type": "code",
   "execution_count": 42,
   "id": "bb9613cd",
   "metadata": {},
   "outputs": [
    {
     "ename": "TypeError",
     "evalue": "__init__() got an unexpected keyword argument 'ratio'",
     "output_type": "error",
     "traceback": [
      "\u001b[0;31m---------------------------------------------------------------------------\u001b[0m",
      "\u001b[0;31mTypeError\u001b[0m                                 Traceback (most recent call last)",
      "\u001b[0;32m/var/folders/c1/y0qhw1q54ys1fs7mkjx0j_8m0000gn/T/ipykernel_3188/2329079510.py\u001b[0m in \u001b[0;36m<module>\u001b[0;34m\u001b[0m\n\u001b[1;32m      8\u001b[0m \u001b[0;36m8\u001b[0m\u001b[0;34m:\u001b[0m \u001b[0;36m1000\u001b[0m\u001b[0;34m,\u001b[0m\u001b[0;34m\u001b[0m\u001b[0;34m\u001b[0m\u001b[0m\n\u001b[1;32m      9\u001b[0m 9: 1000}\n\u001b[0;32m---> 10\u001b[0;31m smote = SMOTE(ratio=dict,\n\u001b[0m\u001b[1;32m     11\u001b[0m \u001b[0mk_neighbors\u001b[0m\u001b[0;34m=\u001b[0m\u001b[0;36m3\u001b[0m\u001b[0;34m,\u001b[0m\u001b[0;34m\u001b[0m\u001b[0;34m\u001b[0m\u001b[0m\n\u001b[1;32m     12\u001b[0m \u001b[0mrandom_state\u001b[0m\u001b[0;34m=\u001b[0m\u001b[0;36m0\u001b[0m\u001b[0;34m,\u001b[0m\u001b[0;34m\u001b[0m\u001b[0;34m\u001b[0m\u001b[0m\n",
      "\u001b[0;31mTypeError\u001b[0m: __init__() got an unexpected keyword argument 'ratio'"
     ]
    }
   ],
   "source": [
    "from collections import Counter\n",
    "from imblearn.over_sampling import SMOTE\n",
    "dict = {3: 1000,\n",
    "4: 1000,\n",
    "5: 2300,\n",
    "6: 2300,\n",
    "7: 1500,\n",
    "8: 1000,\n",
    "9: 1000}\n",
    "smote = SMOTE(ratio=dict,\n",
    "k_neighbors=3,\n",
    "random_state=0,\n",
    "kind='regular')\n",
    "X_train, Y_train = smote.fit_sample(X_train, Y_train)\n"
   ]
  },
  {
   "cell_type": "code",
   "execution_count": 43,
   "id": "39abd74a",
   "metadata": {},
   "outputs": [
    {
     "name": "stdout",
     "output_type": "stream",
     "text": [
      "Yeni grup sayıları: Counter({6: 2279, 5: 1700, 7: 864, 4: 169, 8: 156, 3: 24, 9: 5})\n"
     ]
    }
   ],
   "source": [
    "print('Yeni grup sayıları: {}'.format(Counter(Y_train)))"
   ]
  },
  {
   "cell_type": "markdown",
   "id": "45b754e3",
   "metadata": {},
   "source": [
    "Evet kod bloğunu açıklayalım. İlk aşamada yine gerekli modülleri indirdikten sonra bir “dictionary” tanımladık ve her sınıf için istediğimiz gözlem miktarını bu nesne içinde belirttik. Sonrasında “SMOTE” metodu ile “ratio” argümanına bu nesneyi verdikten sonra 3-NN algoritması ile yeni gözlemlerin oluşmasını istedik. Son olarak yine “random_state” ile her zaman aynı sonuçlar doğmasını sağladıktan sonra “kind” argümanı ile de normal versiyonun uygulanmasını istedik. Bu metodu “fit_sample” ile training sete uyguladıktan sonra yeni grup sayılarını yazdırdık:"
   ]
  },
  {
   "cell_type": "markdown",
   "id": "e745af5a",
   "metadata": {},
   "source": [
    "Gördüğünüz gibi verideki sınıfların sayılarını bu şekilde değiştirdik. Veri setini bölme işlemini de tamamladık ve SMOTE metodunu uyguladık. Artık “Data Preprocessing” aşamasının sonuna gelmiş bulunuyoruz. Şimdi artık veride bulunan bu özelliklerden hangilerinin işimize yarayıp yaramayacağına karar verme zamanı geldi. Üstte de bahsettiğimiz gibi burada boyut düşürme işlemi uygulayacağız. Öncelikle neden boyut düşürmeye ihtiyaç duyduğumuzdan bahsedelim, sonrasında ise hangi metodu kullanarak boyut düşürme uygulayacağımızı anlatalım.\n",
    "\n",
    "Makine öğrenmesi literatüründe çok bilinen bir terim vardır: “Curse of Dimensionality”. Bu terim aslında bizi şunu anlatır; verideki boyut(değişken/özellik) sayısı büyüdükçe ortaya bazı problemler çıkmaya başlar. Bunlardan ilki hesaplama yüküdür. Doğal olarak ne kadar fazla kolonunuz varsa hesaplama yükünüz de o kadar artacaktır. Büyük makine öğrenimi projeleri düşünülürse buralarda zaten kullanılan kolon sayısı fazladır ve bu da büyük bir hesaplama yükü getirir. Bu yüzden bu kolon sayısını düşürmek adına çarelere başvurulur. Bir diğer sakınca ise boyut miktarı arttıkça veride çok daha fazla oranda gözleme ihtiyaç duyulmasıdır. Çünkü çok boyutlu bir ortamda artık elinizdeki gözlem sayısı yetersiz kalıyorsa veriniz o ortam için çok seyrek bir duruma düşer. Yani elinizdeki veri setinin tüm boyutlarını temsil edecek ve hepsindeki paternleri tespit etmeye yetecek bir veri miktarına sahip olmanız gerekir. Aksi takdirde herhangi bir algoritma bu konuda yetersiz kalacaktır. Ne demek istediğimizi bir görsel ile anlatayım:"
   ]
  },
  {
   "attachments": {
    "121.webp": {
     "image/webp": "[encoded data removed]"
    }
   },
   "cell_type": "markdown",
   "id": "a42f842c",
   "metadata": {},
   "source": [
    "![121.webp](attachment:121.webp)"
   ]
  },
  {
   "cell_type": "markdown",
   "id": "56799265",
   "metadata": {},
   "source": [
    "Üstteki görseli inceleyelim. İlk görselde tek boyut var ve gördüğünüz gibi veri sayısı bu boyut için gayet sık ve yeterli durumda. Bu şartlar altında makine öğrenimi algoritmaları bu verinin bu boyuttaki ya da değişkendeki paternlerini rahatça tespit edebilir. İkinci görselde boyut sayısı ikiye çıktığında veri iki boyutlu düzleme göre biraz daha seyrekleşmeye başlıyor. Yani iki boyut için yeterli gözlem sayısı olup olmadığı tartışmaya açık bir hale geliyor. Algoritmaların başarısı burada düşmeye başlıyor. Son görselde ise boyut sayısı üçe çıkıyor ve gördüğünüz gibi çoğu yer boş kalıyor. Veri seyrek ve yetersiz. Bu da bu üç boyut için algoritmaların yeterli veri görememesi ve patern tespiti yapamamasına neden oluyor. Yani veri setindeki tüm boyutları temsil edecek ve algoritma için bu boyutların hepsine dair örnekler sağlayacak veri grupları artık bulunamıyor. Daha fazla değişken sayısı veriye girdiğinde artık görselleştirmek bizler için imkansız olacağından burada bırakalım. Zaten bu üç görsel bahsettiğimiz durumu açıklamak için yeterli.\n",
    "\n",
    "İşte bu üstte saydığımız sebeplerden dolayı verideki boyut sayısı düşürülmek istenir. Bunu da yapmanın iki yolu vardır:\n",
    "\n",
    "Değişken Seçimi (Feature Selection)\n",
    "Değişken Çıkarımı (Feature Extraction)\n",
    "Değişken seçimi için bazı yazılarımızda kendimiz algoritmalar çalıştırmış, bazılarında ise algoritmanın otomatik olarak yapması için kendisine bırakmıştık. Şimdi ise ikinci seçeneği yani değişken çıkarımını uygulayacağız. Bu işlemi de PCA(Principal Component Analysis) ya da Asal Bileşenler Analizi vasıtasıyla yapacağız. Şimdi biraz da bu yöntemden ve nasıl çalıştığından bahsedelim. Bu yöntemi çok fazla terminolojiye değinmeden açıklamaya çalışacağım.\n",
    "\n",
    "PCA metodunun genel amacı verideki değişkenliği en yüksek düzeyde açıklayan asal bileşenleri tespit etmek ve böylece bunların dışındakileri atarak veri boyutunu düşürmektir. Çünkü değişkenliği ne kadar iyi açıklarsanız tahminleriniz de o denli güçlü olacaktır. PCA öncelikle boyut düşürmek için eldeki veriyi sıfıra merkezleyerek aynı lineer regresyon işleminde olduğu gibi veriye oturan en iyi çizgiyi tespit eder. Bu çizgiyi tespit ederken kullandığı optimizasyon yöntemi ise veri noktalarının bu doğruya izdüşümlerinin orijine olan toplam uzaklıklarının karelerinin toplamını maksimize etmektir. Tespit edilen ilk çizgiye Principal Component 1 ya da PC1 denilir. Bu çizginin oluşumunda hangi değişkenin ne kadar payı olduğu da bu çizginin eğimine tüm değişkenlerin ne kadar katkıda bulunduğu hesaplanarak elde edilir. Daha sonra bu çizgiye dik olmak ve orijinden geçmek üzere PC2, PC3 ve diğer asal bileşenler oluşturulur. Aynı şekilde bunların oluşumuna da hangi değişkenin ne kadar katkısı olduğu eğimlerine tüm değişkenlerin katkıları ölçülerek hesaplanır. Daha sonra bu asal bileşenlerin verideki değişkenliği ne kadar hesapladığı belirlenir. Bu belirleme işleminde de üstte bahsettiğimiz veri noktalarının bu doğruya izdüşümlerinin orijine olan toplam uzaklıklarının karelerinin toplamı, toplam gözlem sayısının bir eksiğine bölünür. Böylece her asal bileşenin değişkenlik açıklama oranı tespit edilmiş olur. Son aşamada ise en çok değişkenlik açıklama oranına sahip olan asal bileşenler seçilir ve geriye kalanlar kullanılmaz. Böylece veri boyutu düşürülmüş olur. Terminolojide Eigenvector, SVD(Singular Value Decomposition), Variation gibi bir çok terim geçiyor. Ben burada bunlara pek fazla girmeden, özet bilgi vermeye çalıştım. Örneğin SVD ifadesi, üstte bahsettiğimiz izdüşümlerin orijine olan mesafelerinin kareleri toplamının kökünü ayrıştırma işlemine denmektedir. Bu sayının kökü bize “Singular Value” değerini verir. Bunu ayrıştırma işlemine de “Singular Value Decomposition” ya da kısaca SVD denmektedir. Bunlara dair internette zaten birçok bilgi bulunuyor bu yüzden detay vermeye gerek görmedim.\n",
    "\n",
    "Vakit kaybetmeden uygulamaya geçelim ve nasıl çalıştığını görelim:"
   ]
  },
  {
   "cell_type": "code",
   "execution_count": 45,
   "id": "4f9c6c05",
   "metadata": {},
   "outputs": [
    {
     "ename": "ValueError",
     "evalue": "Input contains NaN, infinity or a value too large for dtype('float64').",
     "output_type": "error",
     "traceback": [
      "\u001b[0;31m---------------------------------------------------------------------------\u001b[0m",
      "\u001b[0;31mValueError\u001b[0m                                Traceback (most recent call last)",
      "\u001b[0;32m/var/folders/c1/y0qhw1q54ys1fs7mkjx0j_8m0000gn/T/ipykernel_3188/2485349671.py\u001b[0m in \u001b[0;36m<module>\u001b[0;34m\u001b[0m\n\u001b[1;32m      2\u001b[0m PCA = PCA(n_components=None,\n\u001b[1;32m      3\u001b[0m random_state=0)\n\u001b[0;32m----> 4\u001b[0;31m \u001b[0mX_train\u001b[0m \u001b[0;34m=\u001b[0m \u001b[0mPCA\u001b[0m\u001b[0;34m.\u001b[0m\u001b[0mfit_transform\u001b[0m\u001b[0;34m(\u001b[0m\u001b[0mX_train\u001b[0m\u001b[0;34m)\u001b[0m\u001b[0;34m\u001b[0m\u001b[0;34m\u001b[0m\u001b[0m\n\u001b[0m\u001b[1;32m      5\u001b[0m \u001b[0mX_test\u001b[0m \u001b[0;34m=\u001b[0m \u001b[0mPCA\u001b[0m\u001b[0;34m.\u001b[0m\u001b[0mtransform\u001b[0m\u001b[0;34m(\u001b[0m\u001b[0mX_test\u001b[0m\u001b[0;34m)\u001b[0m\u001b[0;34m\u001b[0m\u001b[0;34m\u001b[0m\u001b[0m\n\u001b[1;32m      6\u001b[0m \u001b[0mExp_Var\u001b[0m \u001b[0;34m=\u001b[0m \u001b[0mPCA\u001b[0m\u001b[0;34m.\u001b[0m\u001b[0mexplained_variance_ratio_\u001b[0m\u001b[0;34m\u001b[0m\u001b[0;34m\u001b[0m\u001b[0m\n",
      "\u001b[0;32m~/opt/anaconda3/lib/python3.9/site-packages/sklearn/decomposition/_pca.py\u001b[0m in \u001b[0;36mfit_transform\u001b[0;34m(self, X, y)\u001b[0m\n\u001b[1;32m    405\u001b[0m         \u001b[0mC\u001b[0m\u001b[0;34m-\u001b[0m\u001b[0mordered\u001b[0m \u001b[0marray\u001b[0m\u001b[0;34m,\u001b[0m \u001b[0muse\u001b[0m \u001b[0;34m'np.ascontiguousarray'\u001b[0m\u001b[0;34m.\u001b[0m\u001b[0;34m\u001b[0m\u001b[0;34m\u001b[0m\u001b[0m\n\u001b[1;32m    406\u001b[0m         \"\"\"\n\u001b[0;32m--> 407\u001b[0;31m         \u001b[0mU\u001b[0m\u001b[0;34m,\u001b[0m \u001b[0mS\u001b[0m\u001b[0;34m,\u001b[0m \u001b[0mVt\u001b[0m \u001b[0;34m=\u001b[0m \u001b[0mself\u001b[0m\u001b[0;34m.\u001b[0m\u001b[0m_fit\u001b[0m\u001b[0;34m(\u001b[0m\u001b[0mX\u001b[0m\u001b[0;34m)\u001b[0m\u001b[0;34m\u001b[0m\u001b[0;34m\u001b[0m\u001b[0m\n\u001b[0m\u001b[1;32m    408\u001b[0m         \u001b[0mU\u001b[0m \u001b[0;34m=\u001b[0m \u001b[0mU\u001b[0m\u001b[0;34m[\u001b[0m\u001b[0;34m:\u001b[0m\u001b[0;34m,\u001b[0m \u001b[0;34m:\u001b[0m \u001b[0mself\u001b[0m\u001b[0;34m.\u001b[0m\u001b[0mn_components_\u001b[0m\u001b[0;34m]\u001b[0m\u001b[0;34m\u001b[0m\u001b[0;34m\u001b[0m\u001b[0m\n\u001b[1;32m    409\u001b[0m \u001b[0;34m\u001b[0m\u001b[0m\n",
      "\u001b[0;32m~/opt/anaconda3/lib/python3.9/site-packages/sklearn/decomposition/_pca.py\u001b[0m in \u001b[0;36m_fit\u001b[0;34m(self, X)\u001b[0m\n\u001b[1;32m    428\u001b[0m             )\n\u001b[1;32m    429\u001b[0m \u001b[0;34m\u001b[0m\u001b[0m\n\u001b[0;32m--> 430\u001b[0;31m         X = self._validate_data(\n\u001b[0m\u001b[1;32m    431\u001b[0m             \u001b[0mX\u001b[0m\u001b[0;34m,\u001b[0m \u001b[0mdtype\u001b[0m\u001b[0;34m=\u001b[0m\u001b[0;34m[\u001b[0m\u001b[0mnp\u001b[0m\u001b[0;34m.\u001b[0m\u001b[0mfloat64\u001b[0m\u001b[0;34m,\u001b[0m \u001b[0mnp\u001b[0m\u001b[0;34m.\u001b[0m\u001b[0mfloat32\u001b[0m\u001b[0;34m]\u001b[0m\u001b[0;34m,\u001b[0m \u001b[0mensure_2d\u001b[0m\u001b[0;34m=\u001b[0m\u001b[0;32mTrue\u001b[0m\u001b[0;34m,\u001b[0m \u001b[0mcopy\u001b[0m\u001b[0;34m=\u001b[0m\u001b[0mself\u001b[0m\u001b[0;34m.\u001b[0m\u001b[0mcopy\u001b[0m\u001b[0;34m\u001b[0m\u001b[0;34m\u001b[0m\u001b[0m\n\u001b[1;32m    432\u001b[0m         )\n",
      "\u001b[0;32m~/opt/anaconda3/lib/python3.9/site-packages/sklearn/base.py\u001b[0m in \u001b[0;36m_validate_data\u001b[0;34m(self, X, y, reset, validate_separately, **check_params)\u001b[0m\n\u001b[1;32m    564\u001b[0m             \u001b[0;32mraise\u001b[0m \u001b[0mValueError\u001b[0m\u001b[0;34m(\u001b[0m\u001b[0;34m\"Validation should be done on X, y or both.\"\u001b[0m\u001b[0;34m)\u001b[0m\u001b[0;34m\u001b[0m\u001b[0;34m\u001b[0m\u001b[0m\n\u001b[1;32m    565\u001b[0m         \u001b[0;32melif\u001b[0m \u001b[0;32mnot\u001b[0m \u001b[0mno_val_X\u001b[0m \u001b[0;32mand\u001b[0m \u001b[0mno_val_y\u001b[0m\u001b[0;34m:\u001b[0m\u001b[0;34m\u001b[0m\u001b[0;34m\u001b[0m\u001b[0m\n\u001b[0;32m--> 566\u001b[0;31m             \u001b[0mX\u001b[0m \u001b[0;34m=\u001b[0m \u001b[0mcheck_array\u001b[0m\u001b[0;34m(\u001b[0m\u001b[0mX\u001b[0m\u001b[0;34m,\u001b[0m \u001b[0;34m**\u001b[0m\u001b[0mcheck_params\u001b[0m\u001b[0;34m)\u001b[0m\u001b[0;34m\u001b[0m\u001b[0;34m\u001b[0m\u001b[0m\n\u001b[0m\u001b[1;32m    567\u001b[0m             \u001b[0mout\u001b[0m \u001b[0;34m=\u001b[0m \u001b[0mX\u001b[0m\u001b[0;34m\u001b[0m\u001b[0;34m\u001b[0m\u001b[0m\n\u001b[1;32m    568\u001b[0m         \u001b[0;32melif\u001b[0m \u001b[0mno_val_X\u001b[0m \u001b[0;32mand\u001b[0m \u001b[0;32mnot\u001b[0m \u001b[0mno_val_y\u001b[0m\u001b[0;34m:\u001b[0m\u001b[0;34m\u001b[0m\u001b[0;34m\u001b[0m\u001b[0m\n",
      "\u001b[0;32m~/opt/anaconda3/lib/python3.9/site-packages/sklearn/utils/validation.py\u001b[0m in \u001b[0;36mcheck_array\u001b[0;34m(array, accept_sparse, accept_large_sparse, dtype, order, copy, force_all_finite, ensure_2d, allow_nd, ensure_min_samples, ensure_min_features, estimator)\u001b[0m\n\u001b[1;32m    798\u001b[0m \u001b[0;34m\u001b[0m\u001b[0m\n\u001b[1;32m    799\u001b[0m         \u001b[0;32mif\u001b[0m \u001b[0mforce_all_finite\u001b[0m\u001b[0;34m:\u001b[0m\u001b[0;34m\u001b[0m\u001b[0;34m\u001b[0m\u001b[0m\n\u001b[0;32m--> 800\u001b[0;31m             \u001b[0m_assert_all_finite\u001b[0m\u001b[0;34m(\u001b[0m\u001b[0marray\u001b[0m\u001b[0;34m,\u001b[0m \u001b[0mallow_nan\u001b[0m\u001b[0;34m=\u001b[0m\u001b[0mforce_all_finite\u001b[0m \u001b[0;34m==\u001b[0m \u001b[0;34m\"allow-nan\"\u001b[0m\u001b[0;34m)\u001b[0m\u001b[0;34m\u001b[0m\u001b[0;34m\u001b[0m\u001b[0m\n\u001b[0m\u001b[1;32m    801\u001b[0m \u001b[0;34m\u001b[0m\u001b[0m\n\u001b[1;32m    802\u001b[0m     \u001b[0;32mif\u001b[0m \u001b[0mensure_min_samples\u001b[0m \u001b[0;34m>\u001b[0m \u001b[0;36m0\u001b[0m\u001b[0;34m:\u001b[0m\u001b[0;34m\u001b[0m\u001b[0;34m\u001b[0m\u001b[0m\n",
      "\u001b[0;32m~/opt/anaconda3/lib/python3.9/site-packages/sklearn/utils/validation.py\u001b[0m in \u001b[0;36m_assert_all_finite\u001b[0;34m(X, allow_nan, msg_dtype)\u001b[0m\n\u001b[1;32m    112\u001b[0m         ):\n\u001b[1;32m    113\u001b[0m             \u001b[0mtype_err\u001b[0m \u001b[0;34m=\u001b[0m \u001b[0;34m\"infinity\"\u001b[0m \u001b[0;32mif\u001b[0m \u001b[0mallow_nan\u001b[0m \u001b[0;32melse\u001b[0m \u001b[0;34m\"NaN, infinity\"\u001b[0m\u001b[0;34m\u001b[0m\u001b[0;34m\u001b[0m\u001b[0m\n\u001b[0;32m--> 114\u001b[0;31m             raise ValueError(\n\u001b[0m\u001b[1;32m    115\u001b[0m                 msg_err.format(\n\u001b[1;32m    116\u001b[0m                     \u001b[0mtype_err\u001b[0m\u001b[0;34m,\u001b[0m \u001b[0mmsg_dtype\u001b[0m \u001b[0;32mif\u001b[0m \u001b[0mmsg_dtype\u001b[0m \u001b[0;32mis\u001b[0m \u001b[0;32mnot\u001b[0m \u001b[0;32mNone\u001b[0m \u001b[0;32melse\u001b[0m \u001b[0mX\u001b[0m\u001b[0;34m.\u001b[0m\u001b[0mdtype\u001b[0m\u001b[0;34m\u001b[0m\u001b[0;34m\u001b[0m\u001b[0m\n",
      "\u001b[0;31mValueError\u001b[0m: Input contains NaN, infinity or a value too large for dtype('float64')."
     ]
    }
   ],
   "source": [
    "from sklearn.decomposition import PCA\n",
    "PCA = PCA(n_components=None,\n",
    "random_state=0)\n",
    "X_train = PCA.fit_transform(X_train)\n",
    "X_test = PCA.transform(X_test)\n",
    "Exp_Var = PCA.explained_variance_ratio_"
   ]
  },
  {
   "cell_type": "code",
   "execution_count": 46,
   "id": "64d421a2",
   "metadata": {},
   "outputs": [
    {
     "ename": "NameError",
     "evalue": "name 'Exp_Var' is not defined",
     "output_type": "error",
     "traceback": [
      "\u001b[0;31m---------------------------------------------------------------------------\u001b[0m",
      "\u001b[0;31mNameError\u001b[0m                                 Traceback (most recent call last)",
      "\u001b[0;32m/var/folders/c1/y0qhw1q54ys1fs7mkjx0j_8m0000gn/T/ipykernel_3188/2556257271.py\u001b[0m in \u001b[0;36m<module>\u001b[0;34m\u001b[0m\n\u001b[1;32m      1\u001b[0m \u001b[0mnp\u001b[0m\u001b[0;34m.\u001b[0m\u001b[0mset_printoptions\u001b[0m\u001b[0;34m(\u001b[0m\u001b[0msuppress\u001b[0m\u001b[0;34m=\u001b[0m\u001b[0;32mTrue\u001b[0m\u001b[0;34m)\u001b[0m\u001b[0;34m\u001b[0m\u001b[0;34m\u001b[0m\u001b[0m\n\u001b[0;32m----> 2\u001b[0;31m \u001b[0mprint\u001b[0m\u001b[0;34m(\u001b[0m\u001b[0mExp_Var\u001b[0m\u001b[0;34m)\u001b[0m\u001b[0;34m\u001b[0m\u001b[0;34m\u001b[0m\u001b[0m\n\u001b[0m",
      "\u001b[0;31mNameError\u001b[0m: name 'Exp_Var' is not defined"
     ]
    }
   ],
   "source": [
    "np.set_printoptions(suppress=True)\n",
    "print(Exp_Var)"
   ]
  },
  {
   "cell_type": "markdown",
   "id": "968697ac",
   "metadata": {},
   "source": [
    "Evet üstteki kod bloğunu açıklayalım. İlk satırda her zamanki gibi gerekli modülü indirdik. Daha sonra “PCA” fonksiyonunu kullanarak asal bileşen analizini uygulamaya geçtik. Burada “n_components” argümanı kaç tane asal bileşenin seçileceğini belirliyor. Buraya “None” girmemin sebebi ise, bunu henüz bilmiyor olmamız. Yani kaç asal bileşenin verideki değişkenliğin anlamlı bir miktarını açıklamaya yeteceğini henüz bilmiyoruz. Bu yüzden buna “None” dedik. “.fit_transform” metodu ile train set üzerinde PCA algoritmasını uyguladık ve bu uygulanmış algoritmayı kullanarak test seti de dönüştürdük. Son satırda yaptığımız ise tam olarak üstte sorduğumuz soruya cevap vermek. Yani, kaç tane asal bileşene ihtiyacamız olacağını bilmediğimiz için, “Exp_Var” adlı bir nesne oluşturduk ve her asal bileşenin açıkladığı değişkenlik oranını oraya attık. En son bu listeye bakacak ve verideki değişkenliğin anlamlı bir miktarını açıklamaya kaç tane asal bileşenin yettiğini göreceğiz. Daha sonra da bu algoritmayı bu kez belirlediğimiz asal bileşen sayısını seçmesini isteyerek çalıştıracağız. Böylece hem veri setindeki boyut adedini düşürmüş olacak hem de değişkenliğin büyük bir kısmını hala açıklayabiliyor olacağız. “print” komutundan önceki satır sonuçların bilimsel gösterimde gelmemesini sağlıyor. Sonucu görelim:"
   ]
  },
  {
   "cell_type": "markdown",
   "id": "e95e1aab",
   "metadata": {},
   "source": [
    "Evet sonucu inceleyelim. İlk asal bileşen değişkenliğin %37’sini, ikinci %20’sini açıklıyor. Diğerlerinin de açıklama oranlarını görebiliyoruz. İlk 6 asal bileşene bakarsak, bunlar toplamda verideki değişkenliğin %88 civarını açıklıyorlar. Bu yüzden sadece bunları kullanmak bizim için anlamlı olacaktır. Sadece bunları kullanarak veri setini de 13 boyuttan 6 boyuta düşürmüş olacağız. Şimdi “n_components” argümanını 6 yaparak algoritmayı tekrar çalıştıralım. Çünkü üstteki kod bloğu yine 13 adet asal bileşen hesapladı ve veri hala 13 boyutlu. Biz ise 6 boyuta düşmesini istiyoruz bu yüzden tekrar çalıştırmamız gerek. Çalıştırmadan önce konsolu sıfırlayın veya yazı boyunca çalıştırdığımız tüm kodları yeniden çalıştırın böylece train ve test setlerimizin ilk haline geri dönmelerini sağlayalım. Çünkü algoritmayı bu ilk haller üzerinde çalıştırmamız gerekiyor. Sıfırlama işlemini yaptığınızı varsayarak devam ediyorum. Aşağıdaki kod bloğu ile işlemi gerçekleştirelim:"
   ]
  },
  {
   "cell_type": "code",
   "execution_count": 47,
   "id": "83e09f80",
   "metadata": {},
   "outputs": [
    {
     "ename": "ValueError",
     "evalue": "Input contains NaN, infinity or a value too large for dtype('float64').",
     "output_type": "error",
     "traceback": [
      "\u001b[0;31m---------------------------------------------------------------------------\u001b[0m",
      "\u001b[0;31mValueError\u001b[0m                                Traceback (most recent call last)",
      "\u001b[0;32m/var/folders/c1/y0qhw1q54ys1fs7mkjx0j_8m0000gn/T/ipykernel_3188/3521426375.py\u001b[0m in \u001b[0;36m<module>\u001b[0;34m\u001b[0m\n\u001b[1;32m      2\u001b[0m PCA = PCA(n_components=6,\n\u001b[1;32m      3\u001b[0m random_state=0)\n\u001b[0;32m----> 4\u001b[0;31m \u001b[0mX_train\u001b[0m \u001b[0;34m=\u001b[0m \u001b[0mPCA\u001b[0m\u001b[0;34m.\u001b[0m\u001b[0mfit_transform\u001b[0m\u001b[0;34m(\u001b[0m\u001b[0mX_train\u001b[0m\u001b[0;34m)\u001b[0m\u001b[0;34m\u001b[0m\u001b[0;34m\u001b[0m\u001b[0m\n\u001b[0m\u001b[1;32m      5\u001b[0m \u001b[0mX_test\u001b[0m \u001b[0;34m=\u001b[0m \u001b[0mPCA\u001b[0m\u001b[0;34m.\u001b[0m\u001b[0mtransform\u001b[0m\u001b[0;34m(\u001b[0m\u001b[0mX_test\u001b[0m\u001b[0;34m)\u001b[0m\u001b[0;34m\u001b[0m\u001b[0;34m\u001b[0m\u001b[0m\n\u001b[1;32m      6\u001b[0m \u001b[0mExp_Var\u001b[0m \u001b[0;34m=\u001b[0m \u001b[0mPCA\u001b[0m\u001b[0;34m.\u001b[0m\u001b[0mexplained_variance_ratio_\u001b[0m\u001b[0;34m\u001b[0m\u001b[0;34m\u001b[0m\u001b[0m\n",
      "\u001b[0;32m~/opt/anaconda3/lib/python3.9/site-packages/sklearn/decomposition/_pca.py\u001b[0m in \u001b[0;36mfit_transform\u001b[0;34m(self, X, y)\u001b[0m\n\u001b[1;32m    405\u001b[0m         \u001b[0mC\u001b[0m\u001b[0;34m-\u001b[0m\u001b[0mordered\u001b[0m \u001b[0marray\u001b[0m\u001b[0;34m,\u001b[0m \u001b[0muse\u001b[0m \u001b[0;34m'np.ascontiguousarray'\u001b[0m\u001b[0;34m.\u001b[0m\u001b[0;34m\u001b[0m\u001b[0;34m\u001b[0m\u001b[0m\n\u001b[1;32m    406\u001b[0m         \"\"\"\n\u001b[0;32m--> 407\u001b[0;31m         \u001b[0mU\u001b[0m\u001b[0;34m,\u001b[0m \u001b[0mS\u001b[0m\u001b[0;34m,\u001b[0m \u001b[0mVt\u001b[0m \u001b[0;34m=\u001b[0m \u001b[0mself\u001b[0m\u001b[0;34m.\u001b[0m\u001b[0m_fit\u001b[0m\u001b[0;34m(\u001b[0m\u001b[0mX\u001b[0m\u001b[0;34m)\u001b[0m\u001b[0;34m\u001b[0m\u001b[0;34m\u001b[0m\u001b[0m\n\u001b[0m\u001b[1;32m    408\u001b[0m         \u001b[0mU\u001b[0m \u001b[0;34m=\u001b[0m \u001b[0mU\u001b[0m\u001b[0;34m[\u001b[0m\u001b[0;34m:\u001b[0m\u001b[0;34m,\u001b[0m \u001b[0;34m:\u001b[0m \u001b[0mself\u001b[0m\u001b[0;34m.\u001b[0m\u001b[0mn_components_\u001b[0m\u001b[0;34m]\u001b[0m\u001b[0;34m\u001b[0m\u001b[0;34m\u001b[0m\u001b[0m\n\u001b[1;32m    409\u001b[0m \u001b[0;34m\u001b[0m\u001b[0m\n",
      "\u001b[0;32m~/opt/anaconda3/lib/python3.9/site-packages/sklearn/decomposition/_pca.py\u001b[0m in \u001b[0;36m_fit\u001b[0;34m(self, X)\u001b[0m\n\u001b[1;32m    428\u001b[0m             )\n\u001b[1;32m    429\u001b[0m \u001b[0;34m\u001b[0m\u001b[0m\n\u001b[0;32m--> 430\u001b[0;31m         X = self._validate_data(\n\u001b[0m\u001b[1;32m    431\u001b[0m             \u001b[0mX\u001b[0m\u001b[0;34m,\u001b[0m \u001b[0mdtype\u001b[0m\u001b[0;34m=\u001b[0m\u001b[0;34m[\u001b[0m\u001b[0mnp\u001b[0m\u001b[0;34m.\u001b[0m\u001b[0mfloat64\u001b[0m\u001b[0;34m,\u001b[0m \u001b[0mnp\u001b[0m\u001b[0;34m.\u001b[0m\u001b[0mfloat32\u001b[0m\u001b[0;34m]\u001b[0m\u001b[0;34m,\u001b[0m \u001b[0mensure_2d\u001b[0m\u001b[0;34m=\u001b[0m\u001b[0;32mTrue\u001b[0m\u001b[0;34m,\u001b[0m \u001b[0mcopy\u001b[0m\u001b[0;34m=\u001b[0m\u001b[0mself\u001b[0m\u001b[0;34m.\u001b[0m\u001b[0mcopy\u001b[0m\u001b[0;34m\u001b[0m\u001b[0;34m\u001b[0m\u001b[0m\n\u001b[1;32m    432\u001b[0m         )\n",
      "\u001b[0;32m~/opt/anaconda3/lib/python3.9/site-packages/sklearn/base.py\u001b[0m in \u001b[0;36m_validate_data\u001b[0;34m(self, X, y, reset, validate_separately, **check_params)\u001b[0m\n\u001b[1;32m    564\u001b[0m             \u001b[0;32mraise\u001b[0m \u001b[0mValueError\u001b[0m\u001b[0;34m(\u001b[0m\u001b[0;34m\"Validation should be done on X, y or both.\"\u001b[0m\u001b[0;34m)\u001b[0m\u001b[0;34m\u001b[0m\u001b[0;34m\u001b[0m\u001b[0m\n\u001b[1;32m    565\u001b[0m         \u001b[0;32melif\u001b[0m \u001b[0;32mnot\u001b[0m \u001b[0mno_val_X\u001b[0m \u001b[0;32mand\u001b[0m \u001b[0mno_val_y\u001b[0m\u001b[0;34m:\u001b[0m\u001b[0;34m\u001b[0m\u001b[0;34m\u001b[0m\u001b[0m\n\u001b[0;32m--> 566\u001b[0;31m             \u001b[0mX\u001b[0m \u001b[0;34m=\u001b[0m \u001b[0mcheck_array\u001b[0m\u001b[0;34m(\u001b[0m\u001b[0mX\u001b[0m\u001b[0;34m,\u001b[0m \u001b[0;34m**\u001b[0m\u001b[0mcheck_params\u001b[0m\u001b[0;34m)\u001b[0m\u001b[0;34m\u001b[0m\u001b[0;34m\u001b[0m\u001b[0m\n\u001b[0m\u001b[1;32m    567\u001b[0m             \u001b[0mout\u001b[0m \u001b[0;34m=\u001b[0m \u001b[0mX\u001b[0m\u001b[0;34m\u001b[0m\u001b[0;34m\u001b[0m\u001b[0m\n\u001b[1;32m    568\u001b[0m         \u001b[0;32melif\u001b[0m \u001b[0mno_val_X\u001b[0m \u001b[0;32mand\u001b[0m \u001b[0;32mnot\u001b[0m \u001b[0mno_val_y\u001b[0m\u001b[0;34m:\u001b[0m\u001b[0;34m\u001b[0m\u001b[0;34m\u001b[0m\u001b[0m\n",
      "\u001b[0;32m~/opt/anaconda3/lib/python3.9/site-packages/sklearn/utils/validation.py\u001b[0m in \u001b[0;36mcheck_array\u001b[0;34m(array, accept_sparse, accept_large_sparse, dtype, order, copy, force_all_finite, ensure_2d, allow_nd, ensure_min_samples, ensure_min_features, estimator)\u001b[0m\n\u001b[1;32m    798\u001b[0m \u001b[0;34m\u001b[0m\u001b[0m\n\u001b[1;32m    799\u001b[0m         \u001b[0;32mif\u001b[0m \u001b[0mforce_all_finite\u001b[0m\u001b[0;34m:\u001b[0m\u001b[0;34m\u001b[0m\u001b[0;34m\u001b[0m\u001b[0m\n\u001b[0;32m--> 800\u001b[0;31m             \u001b[0m_assert_all_finite\u001b[0m\u001b[0;34m(\u001b[0m\u001b[0marray\u001b[0m\u001b[0;34m,\u001b[0m \u001b[0mallow_nan\u001b[0m\u001b[0;34m=\u001b[0m\u001b[0mforce_all_finite\u001b[0m \u001b[0;34m==\u001b[0m \u001b[0;34m\"allow-nan\"\u001b[0m\u001b[0;34m)\u001b[0m\u001b[0;34m\u001b[0m\u001b[0;34m\u001b[0m\u001b[0m\n\u001b[0m\u001b[1;32m    801\u001b[0m \u001b[0;34m\u001b[0m\u001b[0m\n\u001b[1;32m    802\u001b[0m     \u001b[0;32mif\u001b[0m \u001b[0mensure_min_samples\u001b[0m \u001b[0;34m>\u001b[0m \u001b[0;36m0\u001b[0m\u001b[0;34m:\u001b[0m\u001b[0;34m\u001b[0m\u001b[0;34m\u001b[0m\u001b[0m\n",
      "\u001b[0;32m~/opt/anaconda3/lib/python3.9/site-packages/sklearn/utils/validation.py\u001b[0m in \u001b[0;36m_assert_all_finite\u001b[0;34m(X, allow_nan, msg_dtype)\u001b[0m\n\u001b[1;32m    112\u001b[0m         ):\n\u001b[1;32m    113\u001b[0m             \u001b[0mtype_err\u001b[0m \u001b[0;34m=\u001b[0m \u001b[0;34m\"infinity\"\u001b[0m \u001b[0;32mif\u001b[0m \u001b[0mallow_nan\u001b[0m \u001b[0;32melse\u001b[0m \u001b[0;34m\"NaN, infinity\"\u001b[0m\u001b[0;34m\u001b[0m\u001b[0;34m\u001b[0m\u001b[0m\n\u001b[0;32m--> 114\u001b[0;31m             raise ValueError(\n\u001b[0m\u001b[1;32m    115\u001b[0m                 msg_err.format(\n\u001b[1;32m    116\u001b[0m                     \u001b[0mtype_err\u001b[0m\u001b[0;34m,\u001b[0m \u001b[0mmsg_dtype\u001b[0m \u001b[0;32mif\u001b[0m \u001b[0mmsg_dtype\u001b[0m \u001b[0;32mis\u001b[0m \u001b[0;32mnot\u001b[0m \u001b[0;32mNone\u001b[0m \u001b[0;32melse\u001b[0m \u001b[0mX\u001b[0m\u001b[0;34m.\u001b[0m\u001b[0mdtype\u001b[0m\u001b[0;34m\u001b[0m\u001b[0;34m\u001b[0m\u001b[0m\n",
      "\u001b[0;31mValueError\u001b[0m: Input contains NaN, infinity or a value too large for dtype('float64')."
     ]
    }
   ],
   "source": [
    "from sklearn.decomposition import PCA\n",
    "PCA = PCA(n_components=6,\n",
    "random_state=0)\n",
    "X_train = PCA.fit_transform(X_train)\n",
    "X_test = PCA.transform(X_test)\n",
    "Exp_Var = PCA.explained_variance_ratio_\n",
    " \n",
    "np.set_printoptions(suppress=True)\n",
    "print(Exp_Var)\n",
    " \n",
    "print(X_train)"
   ]
  },
  {
   "cell_type": "markdown",
   "id": "743ed277",
   "metadata": {},
   "source": [
    "Tam istediğimiz gibi. Az önceki ilk 6 asal bileşen hesaplandı. Artık verinin yeni halini görelim:"
   ]
  },
  {
   "cell_type": "markdown",
   "id": "41119cfc",
   "metadata": {},
   "source": [
    "Gördüğünüz gibi veride artık 13 değil 6 kolon var. Yani boyut sayısını 13’ten 6’ya düşürdük. Tabii ki test setin de aynı şekilde boyutu düşürüldü fakat göstermeye gerek görmedim.\n",
    "\n",
    "Evet artık her şey hazır. SVM algoritmasını kullanarak tahmin yapma işlemine geçebiliriz. Öncelikle SVM algoritmasının teorik altyapısına değinelim. SVM’de temel amaç, veri sınıflarını birbirlerinden büyük bir boşluk ile ayırmaktır. Başka bir deyişle, iki boyutlu veri düşünürsek, SVM veri sınıflarının arasına öyle bir çizgi çekmek ister ki bu sınıflar birbirinden büyük bir boşlukla ayrılmış olsun. Yani ortadaki bu çizgiye en yakın olan veri noktalarının dahi bu çizgiye uzaklığı maksimum düzeyde olsun. Bir görsel ile destekleyecek olursak;"
   ]
  },
  {
   "cell_type": "markdown",
   "id": "afb1e665",
   "metadata": {},
   "source": [
    "Evet ne demek istediğimiz üstteki görsel ile daha iyi anlaşılabilir. Farkettiyseniz ortada bir çizgi var(yeşil tırtıklı çizgi) ve bu çizgi veriyi mümkün olan en büyük boşluk ile ayırmış durumda. En büyük boşluk hedefine ulaşmak istememizin nedeni ise veriyi en büyük boşluk ile ayırmayı başardığımızda, yeni veri noktalarının tahmininden yüksek düzeyde emin olacak olmamız. Yanlardaki iki siyah çizgi ise her sınıfın ortadaki çizgiye en yakın gözlemlerinin üzerinden geçiyor. Ortadaki çizgiye “Karar Sınırı” diyoruz. Siyah çizgiler üzerindeki noktaların karar sınırına olan uzaklıkları ise “Margin” yani kenarlar olarak adlandırılıyor. SVM algoritmasının amacı da bu kenarları maksimize etmek. Siyah çizgiler üzerinde karar sınırına en yakın olan bu veri noktalarına “Support Vectors” yani destek vektörleri denmektedir. Karar sınırını destekleyen noktalar bunlar olduğu için bu ad verilmiştir. SVM algoritması için optimizasyon problemi artık destek vektör noktalarının kenarlarının en uzak olacağı bir karar sınırı belirlemektir. Tabii ki üstteki görsel iki boyutlu bir veri için geçerli. Boyut sayısı arttığında karar sınırı bir düz çizgi olmaktan çok, artık bir “Hyperplane” yani uzayda bir ayırım düzlemi halini almaya başlar. Fakat görsel amaçlar için iki boyutlu veri üzerinde inceleme yapmak daha uygun olduğu için buradan anlattım. Bu süreçlerin arkasında tabii ki detaylı matematiksel işlemler mevcut. Örneğin “margin” yani kenarlar “functional” ve “geometric” kenarlar olmak üzere ikiye ayrılıyor. Optimizasyon probleminin çözülmesinde de “Lagrange Duality” gibi üst düzey matematiksel yöntemler kullanılıyor. Bunların detayları internette makalelerde bulunabilir. SVM algoritmasının diğer algoritmalardan bariz bir farkı da bulunuyor ve bu fark onun başarısında önemli bir rol oynuyor. Yukarıdaki görseli incelediğimizde SVM algoritmasının karar çizgisini çizerken destek vektörlerden yani sınıfların en ucundaki ve boşluğun sınırında olan veri noktalarından yararlandığını görebiliyoruz. Bu da aslında SVM’in veri sınıflarındaki diğer sınıflara en yakın yani en benzer olan gözlemlere bakmasını sağlıyor. Birbirine en benzer ama farklı sınıflara ait olan gözlemleri birbirinden ayırdığından dolayı da SVM algoritması bu çizgiyi bulabilirse başarılı bir karar sınırı çizmiş oluyor.\n",
    "\n",
    "Evet buraya kadar anlattıklarımız arasında dikkat çekmemiz gereken bir nokta var. Bu nokta verinin “Linearly Separable” yani doğrusal olarak ayrılabilen bir veri olduğu. Fakat gerçek senaryolarda durum her zaman bu şekilde olmayacaktır. Veri eğer doğrusal ayrılabilir değilse bir çizgi ile karar sınırı çekmek imkansız olacaktır ve bu durumda başka çözümlere gidilecektir. Bu duruma sunulan bir çözüm, veri setini bir üst boyuta bir “mapping” fonksiyonu vasıtasıyla taşımak ve burada doğrusal olarak ayırdıktan sonra eski boyutuna bu sonucu yansıtarak karar sınırını çizmektir. Fakat bu işlemin hesaplama maliyeti tahmin edebileceğiniz gibi büyük olacaktır. Bu yüzden bu duruma çözüm olarak makine öğrenimi literatüründe çok bilinen bir yol geliştirilmiştir: “The Kernel Trick”. Bir kernel vasıtasıyla doğrusal olarak ayrılamayan bir veri aynı bir üst boyuta çıkarılıyormuş gibi ayrılabilir ve karar sınırı çizilebilir. Fakat aslında tüm işlemler verinin kendi boyutunda gerçekleşmektedir. Kernel ile kastettiğimiz ise aslında bir fonksiyondur. Çok bilinen kernellar arasında Gaussian(ya da Radial Basis), polynomial ve sigmoid kernelları sayabiliriz."
   ]
  },
  {
   "cell_type": "code",
   "execution_count": 48,
   "id": "79119a67",
   "metadata": {},
   "outputs": [
    {
     "name": "stderr",
     "output_type": "stream",
     "text": [
      "/Users/arifaygun/opt/anaconda3/lib/python3.9/site-packages/sklearn/model_selection/_validation.py:372: FitFailedWarning: \n",
      "650 fits failed out of a total of 650.\n",
      "The score on these train-test partitions for these parameters will be set to nan.\n",
      "If these failures are not expected, you can try to debug them by setting error_score='raise'.\n",
      "\n",
      "Below are more details about the failures:\n",
      "--------------------------------------------------------------------------------\n",
      "650 fits failed with the following error:\n",
      "Traceback (most recent call last):\n",
      "  File \"/Users/arifaygun/opt/anaconda3/lib/python3.9/site-packages/sklearn/model_selection/_validation.py\", line 680, in _fit_and_score\n",
      "    estimator.fit(X_train, y_train, **fit_params)\n",
      "  File \"/Users/arifaygun/opt/anaconda3/lib/python3.9/site-packages/sklearn/svm/_base.py\", line 190, in fit\n",
      "    X, y = self._validate_data(\n",
      "  File \"/Users/arifaygun/opt/anaconda3/lib/python3.9/site-packages/sklearn/base.py\", line 581, in _validate_data\n",
      "    X, y = check_X_y(X, y, **check_params)\n",
      "  File \"/Users/arifaygun/opt/anaconda3/lib/python3.9/site-packages/sklearn/utils/validation.py\", line 964, in check_X_y\n",
      "    X = check_array(\n",
      "  File \"/Users/arifaygun/opt/anaconda3/lib/python3.9/site-packages/sklearn/utils/validation.py\", line 800, in check_array\n",
      "    _assert_all_finite(array, allow_nan=force_all_finite == \"allow-nan\")\n",
      "  File \"/Users/arifaygun/opt/anaconda3/lib/python3.9/site-packages/sklearn/utils/validation.py\", line 114, in _assert_all_finite\n",
      "    raise ValueError(\n",
      "ValueError: Input contains NaN, infinity or a value too large for dtype('float64').\n",
      "\n",
      "  warnings.warn(some_fits_failed_message, FitFailedWarning)\n",
      "/Users/arifaygun/opt/anaconda3/lib/python3.9/site-packages/sklearn/model_selection/_search.py:969: UserWarning: One or more of the test scores are non-finite: [nan nan nan nan nan nan nan nan nan nan nan nan nan nan nan nan nan nan\n",
      " nan nan nan nan nan nan nan nan nan nan nan nan nan nan nan nan nan nan\n",
      " nan nan nan nan nan nan nan nan nan nan nan nan nan nan nan nan nan nan\n",
      " nan nan nan nan nan nan nan nan nan nan nan nan nan nan nan nan nan nan\n",
      " nan nan nan nan nan nan nan nan nan nan nan nan nan nan nan nan nan nan\n",
      " nan nan nan nan nan nan nan nan nan nan nan nan nan nan nan nan nan nan\n",
      " nan nan nan nan nan nan nan nan nan nan nan nan nan nan nan nan nan nan\n",
      " nan nan nan nan]\n",
      "  warnings.warn(\n"
     ]
    },
    {
     "ename": "ValueError",
     "evalue": "Input contains NaN, infinity or a value too large for dtype('float64').",
     "output_type": "error",
     "traceback": [
      "\u001b[0;31m---------------------------------------------------------------------------\u001b[0m",
      "\u001b[0;31mValueError\u001b[0m                                Traceback (most recent call last)",
      "\u001b[0;32m/var/folders/c1/y0qhw1q54ys1fs7mkjx0j_8m0000gn/T/ipykernel_3188/2113782501.py\u001b[0m in \u001b[0;36m<module>\u001b[0;34m\u001b[0m\n\u001b[1;32m     10\u001b[0m \u001b[0mcv\u001b[0m\u001b[0;34m=\u001b[0m\u001b[0;36m5\u001b[0m\u001b[0;34m,\u001b[0m\u001b[0;34m\u001b[0m\u001b[0;34m\u001b[0m\u001b[0m\n\u001b[1;32m     11\u001b[0m n_jobs=-1)\n\u001b[0;32m---> 12\u001b[0;31m \u001b[0mGridSearch_SVM\u001b[0m \u001b[0;34m=\u001b[0m \u001b[0mGridSearch_SVM\u001b[0m\u001b[0;34m.\u001b[0m\u001b[0mfit\u001b[0m\u001b[0;34m(\u001b[0m\u001b[0mX_train\u001b[0m\u001b[0;34m,\u001b[0m \u001b[0mY_train\u001b[0m\u001b[0;34m)\u001b[0m\u001b[0;34m\u001b[0m\u001b[0;34m\u001b[0m\u001b[0m\n\u001b[0m\u001b[1;32m     13\u001b[0m \u001b[0mGridSearch_SVM_Model\u001b[0m\u001b[0;34m.\u001b[0m\u001b[0mbest_score_\u001b[0m\u001b[0;34m\u001b[0m\u001b[0;34m\u001b[0m\u001b[0m\n\u001b[1;32m     14\u001b[0m \u001b[0mGridSearch_SVM_Model\u001b[0m\u001b[0;34m.\u001b[0m\u001b[0mbest_params_\u001b[0m\u001b[0;34m\u001b[0m\u001b[0;34m\u001b[0m\u001b[0m\n",
      "\u001b[0;32m~/opt/anaconda3/lib/python3.9/site-packages/sklearn/model_selection/_search.py\u001b[0m in \u001b[0;36mfit\u001b[0;34m(self, X, y, groups, **fit_params)\u001b[0m\n\u001b[1;32m    924\u001b[0m             \u001b[0mrefit_start_time\u001b[0m \u001b[0;34m=\u001b[0m \u001b[0mtime\u001b[0m\u001b[0;34m.\u001b[0m\u001b[0mtime\u001b[0m\u001b[0;34m(\u001b[0m\u001b[0;34m)\u001b[0m\u001b[0;34m\u001b[0m\u001b[0;34m\u001b[0m\u001b[0m\n\u001b[1;32m    925\u001b[0m             \u001b[0;32mif\u001b[0m \u001b[0my\u001b[0m \u001b[0;32mis\u001b[0m \u001b[0;32mnot\u001b[0m \u001b[0;32mNone\u001b[0m\u001b[0;34m:\u001b[0m\u001b[0;34m\u001b[0m\u001b[0;34m\u001b[0m\u001b[0m\n\u001b[0;32m--> 926\u001b[0;31m                 \u001b[0mself\u001b[0m\u001b[0;34m.\u001b[0m\u001b[0mbest_estimator_\u001b[0m\u001b[0;34m.\u001b[0m\u001b[0mfit\u001b[0m\u001b[0;34m(\u001b[0m\u001b[0mX\u001b[0m\u001b[0;34m,\u001b[0m \u001b[0my\u001b[0m\u001b[0;34m,\u001b[0m \u001b[0;34m**\u001b[0m\u001b[0mfit_params\u001b[0m\u001b[0;34m)\u001b[0m\u001b[0;34m\u001b[0m\u001b[0;34m\u001b[0m\u001b[0m\n\u001b[0m\u001b[1;32m    927\u001b[0m             \u001b[0;32melse\u001b[0m\u001b[0;34m:\u001b[0m\u001b[0;34m\u001b[0m\u001b[0;34m\u001b[0m\u001b[0m\n\u001b[1;32m    928\u001b[0m                 \u001b[0mself\u001b[0m\u001b[0;34m.\u001b[0m\u001b[0mbest_estimator_\u001b[0m\u001b[0;34m.\u001b[0m\u001b[0mfit\u001b[0m\u001b[0;34m(\u001b[0m\u001b[0mX\u001b[0m\u001b[0;34m,\u001b[0m \u001b[0;34m**\u001b[0m\u001b[0mfit_params\u001b[0m\u001b[0;34m)\u001b[0m\u001b[0;34m\u001b[0m\u001b[0;34m\u001b[0m\u001b[0m\n",
      "\u001b[0;32m~/opt/anaconda3/lib/python3.9/site-packages/sklearn/svm/_base.py\u001b[0m in \u001b[0;36mfit\u001b[0;34m(self, X, y, sample_weight)\u001b[0m\n\u001b[1;32m    188\u001b[0m             \u001b[0mcheck_consistent_length\u001b[0m\u001b[0;34m(\u001b[0m\u001b[0mX\u001b[0m\u001b[0;34m,\u001b[0m \u001b[0my\u001b[0m\u001b[0;34m)\u001b[0m\u001b[0;34m\u001b[0m\u001b[0;34m\u001b[0m\u001b[0m\n\u001b[1;32m    189\u001b[0m         \u001b[0;32melse\u001b[0m\u001b[0;34m:\u001b[0m\u001b[0;34m\u001b[0m\u001b[0;34m\u001b[0m\u001b[0m\n\u001b[0;32m--> 190\u001b[0;31m             X, y = self._validate_data(\n\u001b[0m\u001b[1;32m    191\u001b[0m                 \u001b[0mX\u001b[0m\u001b[0;34m,\u001b[0m\u001b[0;34m\u001b[0m\u001b[0;34m\u001b[0m\u001b[0m\n\u001b[1;32m    192\u001b[0m                 \u001b[0my\u001b[0m\u001b[0;34m,\u001b[0m\u001b[0;34m\u001b[0m\u001b[0;34m\u001b[0m\u001b[0m\n",
      "\u001b[0;32m~/opt/anaconda3/lib/python3.9/site-packages/sklearn/base.py\u001b[0m in \u001b[0;36m_validate_data\u001b[0;34m(self, X, y, reset, validate_separately, **check_params)\u001b[0m\n\u001b[1;32m    579\u001b[0m                 \u001b[0my\u001b[0m \u001b[0;34m=\u001b[0m \u001b[0mcheck_array\u001b[0m\u001b[0;34m(\u001b[0m\u001b[0my\u001b[0m\u001b[0;34m,\u001b[0m \u001b[0;34m**\u001b[0m\u001b[0mcheck_y_params\u001b[0m\u001b[0;34m)\u001b[0m\u001b[0;34m\u001b[0m\u001b[0;34m\u001b[0m\u001b[0m\n\u001b[1;32m    580\u001b[0m             \u001b[0;32melse\u001b[0m\u001b[0;34m:\u001b[0m\u001b[0;34m\u001b[0m\u001b[0;34m\u001b[0m\u001b[0m\n\u001b[0;32m--> 581\u001b[0;31m                 \u001b[0mX\u001b[0m\u001b[0;34m,\u001b[0m \u001b[0my\u001b[0m \u001b[0;34m=\u001b[0m \u001b[0mcheck_X_y\u001b[0m\u001b[0;34m(\u001b[0m\u001b[0mX\u001b[0m\u001b[0;34m,\u001b[0m \u001b[0my\u001b[0m\u001b[0;34m,\u001b[0m \u001b[0;34m**\u001b[0m\u001b[0mcheck_params\u001b[0m\u001b[0;34m)\u001b[0m\u001b[0;34m\u001b[0m\u001b[0;34m\u001b[0m\u001b[0m\n\u001b[0m\u001b[1;32m    582\u001b[0m             \u001b[0mout\u001b[0m \u001b[0;34m=\u001b[0m \u001b[0mX\u001b[0m\u001b[0;34m,\u001b[0m \u001b[0my\u001b[0m\u001b[0;34m\u001b[0m\u001b[0;34m\u001b[0m\u001b[0m\n\u001b[1;32m    583\u001b[0m \u001b[0;34m\u001b[0m\u001b[0m\n",
      "\u001b[0;32m~/opt/anaconda3/lib/python3.9/site-packages/sklearn/utils/validation.py\u001b[0m in \u001b[0;36mcheck_X_y\u001b[0;34m(X, y, accept_sparse, accept_large_sparse, dtype, order, copy, force_all_finite, ensure_2d, allow_nd, multi_output, ensure_min_samples, ensure_min_features, y_numeric, estimator)\u001b[0m\n\u001b[1;32m    962\u001b[0m         \u001b[0;32mraise\u001b[0m \u001b[0mValueError\u001b[0m\u001b[0;34m(\u001b[0m\u001b[0;34m\"y cannot be None\"\u001b[0m\u001b[0;34m)\u001b[0m\u001b[0;34m\u001b[0m\u001b[0;34m\u001b[0m\u001b[0m\n\u001b[1;32m    963\u001b[0m \u001b[0;34m\u001b[0m\u001b[0m\n\u001b[0;32m--> 964\u001b[0;31m     X = check_array(\n\u001b[0m\u001b[1;32m    965\u001b[0m         \u001b[0mX\u001b[0m\u001b[0;34m,\u001b[0m\u001b[0;34m\u001b[0m\u001b[0;34m\u001b[0m\u001b[0m\n\u001b[1;32m    966\u001b[0m         \u001b[0maccept_sparse\u001b[0m\u001b[0;34m=\u001b[0m\u001b[0maccept_sparse\u001b[0m\u001b[0;34m,\u001b[0m\u001b[0;34m\u001b[0m\u001b[0;34m\u001b[0m\u001b[0m\n",
      "\u001b[0;32m~/opt/anaconda3/lib/python3.9/site-packages/sklearn/utils/validation.py\u001b[0m in \u001b[0;36mcheck_array\u001b[0;34m(array, accept_sparse, accept_large_sparse, dtype, order, copy, force_all_finite, ensure_2d, allow_nd, ensure_min_samples, ensure_min_features, estimator)\u001b[0m\n\u001b[1;32m    798\u001b[0m \u001b[0;34m\u001b[0m\u001b[0m\n\u001b[1;32m    799\u001b[0m         \u001b[0;32mif\u001b[0m \u001b[0mforce_all_finite\u001b[0m\u001b[0;34m:\u001b[0m\u001b[0;34m\u001b[0m\u001b[0;34m\u001b[0m\u001b[0m\n\u001b[0;32m--> 800\u001b[0;31m             \u001b[0m_assert_all_finite\u001b[0m\u001b[0;34m(\u001b[0m\u001b[0marray\u001b[0m\u001b[0;34m,\u001b[0m \u001b[0mallow_nan\u001b[0m\u001b[0;34m=\u001b[0m\u001b[0mforce_all_finite\u001b[0m \u001b[0;34m==\u001b[0m \u001b[0;34m\"allow-nan\"\u001b[0m\u001b[0;34m)\u001b[0m\u001b[0;34m\u001b[0m\u001b[0;34m\u001b[0m\u001b[0m\n\u001b[0m\u001b[1;32m    801\u001b[0m \u001b[0;34m\u001b[0m\u001b[0m\n\u001b[1;32m    802\u001b[0m     \u001b[0;32mif\u001b[0m \u001b[0mensure_min_samples\u001b[0m \u001b[0;34m>\u001b[0m \u001b[0;36m0\u001b[0m\u001b[0;34m:\u001b[0m\u001b[0;34m\u001b[0m\u001b[0;34m\u001b[0m\u001b[0m\n",
      "\u001b[0;32m~/opt/anaconda3/lib/python3.9/site-packages/sklearn/utils/validation.py\u001b[0m in \u001b[0;36m_assert_all_finite\u001b[0;34m(X, allow_nan, msg_dtype)\u001b[0m\n\u001b[1;32m    112\u001b[0m         ):\n\u001b[1;32m    113\u001b[0m             \u001b[0mtype_err\u001b[0m \u001b[0;34m=\u001b[0m \u001b[0;34m\"infinity\"\u001b[0m \u001b[0;32mif\u001b[0m \u001b[0mallow_nan\u001b[0m \u001b[0;32melse\u001b[0m \u001b[0;34m\"NaN, infinity\"\u001b[0m\u001b[0;34m\u001b[0m\u001b[0;34m\u001b[0m\u001b[0m\n\u001b[0;32m--> 114\u001b[0;31m             raise ValueError(\n\u001b[0m\u001b[1;32m    115\u001b[0m                 msg_err.format(\n\u001b[1;32m    116\u001b[0m                     \u001b[0mtype_err\u001b[0m\u001b[0;34m,\u001b[0m \u001b[0mmsg_dtype\u001b[0m \u001b[0;32mif\u001b[0m \u001b[0mmsg_dtype\u001b[0m \u001b[0;32mis\u001b[0m \u001b[0;32mnot\u001b[0m \u001b[0;32mNone\u001b[0m \u001b[0;32melse\u001b[0m \u001b[0mX\u001b[0m\u001b[0;34m.\u001b[0m\u001b[0mdtype\u001b[0m\u001b[0;34m\u001b[0m\u001b[0;34m\u001b[0m\u001b[0m\n",
      "\u001b[0;31mValueError\u001b[0m: Input contains NaN, infinity or a value too large for dtype('float64')."
     ]
    }
   ],
   "source": [
    "from sklearn.svm import SVC\n",
    "from sklearn.model_selection import GridSearchCV\n",
    "parameters = [\n",
    "{'C': [0.1, 0.5, 1, 10, 50, 75, 100, 500, 1000, 3000], 'kernel': ['linear']},\n",
    "{'C': [0.1, 0.5, 1, 10, 50, 75, 100, 500, 1000, 3000], 'gamma': [0.1, 0.3, 0.5, 0.8, 1, 2, 5, 7, 10, 20, 50, 100], 'kernel': ['rbf']}\n",
    "]\n",
    "GridSearch_SVM = GridSearchCV(estimator=SVC(),\n",
    "param_grid=parameters,\n",
    "scoring='accuracy',\n",
    "cv=5,\n",
    "n_jobs=-1)\n",
    "GridSearch_SVM = GridSearch_SVM.fit(X_train, Y_train)\n",
    "GridSearch_SVM_Model.best_score_\n",
    "GridSearch_SVM_Model.best_params_"
   ]
  },
  {
   "cell_type": "code",
   "execution_count": null,
   "id": "ef09d826",
   "metadata": {},
   "outputs": [],
   "source": []
  }
 ],
 "metadata": {
  "kernelspec": {
   "display_name": "Python 3 (ipykernel)",
   "language": "python",
   "name": "python3"
  },
  "language_info": {
   "codemirror_mode": {
    "name": "ipython",
    "version": 3
   },
   "file_extension": ".py",
   "mimetype": "text/x-python",
   "name": "python",
   "nbconvert_exporter": "python",
   "pygments_lexer": "ipython3",
   "version": "3.9.13"
  }
 },
 "nbformat": 4,
 "nbformat_minor": 5
}

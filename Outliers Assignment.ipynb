{
 "cells": [
  {
   "cell_type": "markdown",
   "id": "b59a163b",
   "metadata": {},
   "source": [
    "# Outliers Assignment - Arif Aygun"
   ]
  },
  {
   "cell_type": "markdown",
   "id": "7ebbe8f3",
   "metadata": {},
   "source": [
    "In this assignment, you'll continue working with the U.S. Education Dataset from Kaggle. The data gives detailed state-level information on several facets of education on an annual basis. To learn more about the data and the column descriptions, you can view the Kaggle link above.\n",
    "\n",
    "Don't forget to apply the most suitable missing-value-filling techniques from the previous checkpoint to the data. Provide the answers to the following only after you've addressed missing values!\n",
    "\n",
    "To complete this assignment, submit a link to a Jupyter Notebook containing your solutions to the following tasks:"
   ]
  },
  {
   "cell_type": "markdown",
   "id": "94da5f03",
   "metadata": {},
   "source": [
    "1. Consider the two variables: TOTAL_REVENUE and TOTAL_EXPENDITURE. Do these variables have outlier values?\n",
    "\n",
    "2. If you detect outliers in the TOTAL_REVENUE and TOTAL_EXPENDITURE variables, apply the techniques you learned in this checkpoint to eliminate them and validate that there are no outlier values after you handled them.\n",
    "\n",
    "3. Create another variable by subtracting the original TOTAL_EXPENDITURE from TOTAL_REVENUE (before you eliminated the outliers). You can think of it as a kind of budget deficit in education. Do you find any outlier values in this new variable? If so, eliminate them using the technique that think is most suitable.\n",
    "\n",
    "4. Now create another variable by subtracting the TOTAL_EXPENDITURE from TOTAL_REVENUE. This time, use the outlier eliminated versions of TOTAL_EXPENDITURE from TOTAL_REVENUE. In this newly created variable, can you find any outliers? If so, eliminate them.\n",
    "\n",
    "5. Compare some basic descriptive statistics of the budget variables you end up with in the third and the fourth questions. Do you see any differences?\n",
    "\n",
    "6. If your variable of interest is the budget deficit variable, which method do you think is the most appropriate in dealing with the outliers in this variable: the method in the third question or the one in the fourth question?\n"
   ]
  },
  {
   "cell_type": "markdown",
   "id": "7fd8eeff",
   "metadata": {},
   "source": [
    "#### Importing Libraries"
   ]
  },
  {
   "cell_type": "code",
   "execution_count": 2,
   "id": "76d6b848",
   "metadata": {},
   "outputs": [],
   "source": [
    "import pandas as pd\n",
    "import numpy as np\n",
    "import seaborn as sns\n",
    "import matplotlib.pyplot as plt\n",
    "%matplotlib inline\n",
    "from scipy import stats"
   ]
  },
  {
   "cell_type": "markdown",
   "id": "a59f56aa",
   "metadata": {},
   "source": [
    "- Reading dataset"
   ]
  },
  {
   "cell_type": "code",
   "execution_count": 3,
   "id": "9fe45c47",
   "metadata": {},
   "outputs": [],
   "source": [
    "df_states= pd.read_csv('states_all.csv')"
   ]
  },
  {
   "cell_type": "code",
   "execution_count": 4,
   "id": "72ac0069",
   "metadata": {},
   "outputs": [
    {
     "data": {
      "text/html": [
       "<div>\n",
       "<style scoped>\n",
       "    .dataframe tbody tr th:only-of-type {\n",
       "        vertical-align: middle;\n",
       "    }\n",
       "\n",
       "    .dataframe tbody tr th {\n",
       "        vertical-align: top;\n",
       "    }\n",
       "\n",
       "    .dataframe thead th {\n",
       "        text-align: right;\n",
       "    }\n",
       "</style>\n",
       "<table border=\"1\" class=\"dataframe\">\n",
       "  <thead>\n",
       "    <tr style=\"text-align: right;\">\n",
       "      <th></th>\n",
       "      <th>PRIMARY_KEY</th>\n",
       "      <th>STATE</th>\n",
       "      <th>YEAR</th>\n",
       "      <th>ENROLL</th>\n",
       "      <th>TOTAL_REVENUE</th>\n",
       "      <th>FEDERAL_REVENUE</th>\n",
       "      <th>STATE_REVENUE</th>\n",
       "      <th>LOCAL_REVENUE</th>\n",
       "      <th>TOTAL_EXPENDITURE</th>\n",
       "      <th>INSTRUCTION_EXPENDITURE</th>\n",
       "      <th>...</th>\n",
       "      <th>GRADES_4_G</th>\n",
       "      <th>GRADES_8_G</th>\n",
       "      <th>GRADES_12_G</th>\n",
       "      <th>GRADES_1_8_G</th>\n",
       "      <th>GRADES_9_12_G</th>\n",
       "      <th>GRADES_ALL_G</th>\n",
       "      <th>AVG_MATH_4_SCORE</th>\n",
       "      <th>AVG_MATH_8_SCORE</th>\n",
       "      <th>AVG_READING_4_SCORE</th>\n",
       "      <th>AVG_READING_8_SCORE</th>\n",
       "    </tr>\n",
       "  </thead>\n",
       "  <tbody>\n",
       "    <tr>\n",
       "      <th>0</th>\n",
       "      <td>1992_ALABAMA</td>\n",
       "      <td>ALABAMA</td>\n",
       "      <td>1992</td>\n",
       "      <td>NaN</td>\n",
       "      <td>2678885.0</td>\n",
       "      <td>304177.0</td>\n",
       "      <td>1659028.0</td>\n",
       "      <td>715680.0</td>\n",
       "      <td>2653798.0</td>\n",
       "      <td>1481703.0</td>\n",
       "      <td>...</td>\n",
       "      <td>57948.0</td>\n",
       "      <td>58025.0</td>\n",
       "      <td>41167.0</td>\n",
       "      <td>NaN</td>\n",
       "      <td>NaN</td>\n",
       "      <td>731634.0</td>\n",
       "      <td>208.0</td>\n",
       "      <td>252.0</td>\n",
       "      <td>207.0</td>\n",
       "      <td>NaN</td>\n",
       "    </tr>\n",
       "    <tr>\n",
       "      <th>1</th>\n",
       "      <td>1992_ALASKA</td>\n",
       "      <td>ALASKA</td>\n",
       "      <td>1992</td>\n",
       "      <td>NaN</td>\n",
       "      <td>1049591.0</td>\n",
       "      <td>106780.0</td>\n",
       "      <td>720711.0</td>\n",
       "      <td>222100.0</td>\n",
       "      <td>972488.0</td>\n",
       "      <td>498362.0</td>\n",
       "      <td>...</td>\n",
       "      <td>9748.0</td>\n",
       "      <td>8789.0</td>\n",
       "      <td>6714.0</td>\n",
       "      <td>NaN</td>\n",
       "      <td>NaN</td>\n",
       "      <td>122487.0</td>\n",
       "      <td>NaN</td>\n",
       "      <td>NaN</td>\n",
       "      <td>NaN</td>\n",
       "      <td>NaN</td>\n",
       "    </tr>\n",
       "    <tr>\n",
       "      <th>2</th>\n",
       "      <td>1992_ARIZONA</td>\n",
       "      <td>ARIZONA</td>\n",
       "      <td>1992</td>\n",
       "      <td>NaN</td>\n",
       "      <td>3258079.0</td>\n",
       "      <td>297888.0</td>\n",
       "      <td>1369815.0</td>\n",
       "      <td>1590376.0</td>\n",
       "      <td>3401580.0</td>\n",
       "      <td>1435908.0</td>\n",
       "      <td>...</td>\n",
       "      <td>55433.0</td>\n",
       "      <td>49081.0</td>\n",
       "      <td>37410.0</td>\n",
       "      <td>NaN</td>\n",
       "      <td>NaN</td>\n",
       "      <td>673477.0</td>\n",
       "      <td>215.0</td>\n",
       "      <td>265.0</td>\n",
       "      <td>209.0</td>\n",
       "      <td>NaN</td>\n",
       "    </tr>\n",
       "    <tr>\n",
       "      <th>3</th>\n",
       "      <td>1992_ARKANSAS</td>\n",
       "      <td>ARKANSAS</td>\n",
       "      <td>1992</td>\n",
       "      <td>NaN</td>\n",
       "      <td>1711959.0</td>\n",
       "      <td>178571.0</td>\n",
       "      <td>958785.0</td>\n",
       "      <td>574603.0</td>\n",
       "      <td>1743022.0</td>\n",
       "      <td>964323.0</td>\n",
       "      <td>...</td>\n",
       "      <td>34632.0</td>\n",
       "      <td>36011.0</td>\n",
       "      <td>27651.0</td>\n",
       "      <td>NaN</td>\n",
       "      <td>NaN</td>\n",
       "      <td>441490.0</td>\n",
       "      <td>210.0</td>\n",
       "      <td>256.0</td>\n",
       "      <td>211.0</td>\n",
       "      <td>NaN</td>\n",
       "    </tr>\n",
       "    <tr>\n",
       "      <th>4</th>\n",
       "      <td>1992_CALIFORNIA</td>\n",
       "      <td>CALIFORNIA</td>\n",
       "      <td>1992</td>\n",
       "      <td>NaN</td>\n",
       "      <td>26260025.0</td>\n",
       "      <td>2072470.0</td>\n",
       "      <td>16546514.0</td>\n",
       "      <td>7641041.0</td>\n",
       "      <td>27138832.0</td>\n",
       "      <td>14358922.0</td>\n",
       "      <td>...</td>\n",
       "      <td>418418.0</td>\n",
       "      <td>363296.0</td>\n",
       "      <td>270675.0</td>\n",
       "      <td>NaN</td>\n",
       "      <td>NaN</td>\n",
       "      <td>5254844.0</td>\n",
       "      <td>208.0</td>\n",
       "      <td>261.0</td>\n",
       "      <td>202.0</td>\n",
       "      <td>NaN</td>\n",
       "    </tr>\n",
       "  </tbody>\n",
       "</table>\n",
       "<p>5 rows × 25 columns</p>\n",
       "</div>"
      ],
      "text/plain": [
       "       PRIMARY_KEY       STATE  YEAR  ENROLL  TOTAL_REVENUE  FEDERAL_REVENUE  \\\n",
       "0     1992_ALABAMA     ALABAMA  1992     NaN      2678885.0         304177.0   \n",
       "1      1992_ALASKA      ALASKA  1992     NaN      1049591.0         106780.0   \n",
       "2     1992_ARIZONA     ARIZONA  1992     NaN      3258079.0         297888.0   \n",
       "3    1992_ARKANSAS    ARKANSAS  1992     NaN      1711959.0         178571.0   \n",
       "4  1992_CALIFORNIA  CALIFORNIA  1992     NaN     26260025.0        2072470.0   \n",
       "\n",
       "   STATE_REVENUE  LOCAL_REVENUE  TOTAL_EXPENDITURE  INSTRUCTION_EXPENDITURE  \\\n",
       "0      1659028.0       715680.0          2653798.0                1481703.0   \n",
       "1       720711.0       222100.0           972488.0                 498362.0   \n",
       "2      1369815.0      1590376.0          3401580.0                1435908.0   \n",
       "3       958785.0       574603.0          1743022.0                 964323.0   \n",
       "4     16546514.0      7641041.0         27138832.0               14358922.0   \n",
       "\n",
       "   ...  GRADES_4_G  GRADES_8_G  GRADES_12_G  GRADES_1_8_G  GRADES_9_12_G  \\\n",
       "0  ...     57948.0     58025.0      41167.0           NaN            NaN   \n",
       "1  ...      9748.0      8789.0       6714.0           NaN            NaN   \n",
       "2  ...     55433.0     49081.0      37410.0           NaN            NaN   \n",
       "3  ...     34632.0     36011.0      27651.0           NaN            NaN   \n",
       "4  ...    418418.0    363296.0     270675.0           NaN            NaN   \n",
       "\n",
       "   GRADES_ALL_G  AVG_MATH_4_SCORE  AVG_MATH_8_SCORE  AVG_READING_4_SCORE  \\\n",
       "0      731634.0             208.0             252.0                207.0   \n",
       "1      122487.0               NaN               NaN                  NaN   \n",
       "2      673477.0             215.0             265.0                209.0   \n",
       "3      441490.0             210.0             256.0                211.0   \n",
       "4     5254844.0             208.0             261.0                202.0   \n",
       "\n",
       "   AVG_READING_8_SCORE  \n",
       "0                  NaN  \n",
       "1                  NaN  \n",
       "2                  NaN  \n",
       "3                  NaN  \n",
       "4                  NaN  \n",
       "\n",
       "[5 rows x 25 columns]"
      ]
     },
     "execution_count": 4,
     "metadata": {},
     "output_type": "execute_result"
    }
   ],
   "source": [
    "df_states.head()"
   ]
  },
  {
   "cell_type": "markdown",
   "id": "577d05a6",
   "metadata": {},
   "source": [
    "- Checking basic informations of dataframe"
   ]
  },
  {
   "cell_type": "code",
   "execution_count": 5,
   "id": "8d4d3c51",
   "metadata": {},
   "outputs": [
    {
     "name": "stdout",
     "output_type": "stream",
     "text": [
      "<class 'pandas.core.frame.DataFrame'>\n",
      "RangeIndex: 1715 entries, 0 to 1714\n",
      "Data columns (total 25 columns):\n",
      " #   Column                        Non-Null Count  Dtype  \n",
      "---  ------                        --------------  -----  \n",
      " 0   PRIMARY_KEY                   1715 non-null   object \n",
      " 1   STATE                         1715 non-null   object \n",
      " 2   YEAR                          1715 non-null   int64  \n",
      " 3   ENROLL                        1224 non-null   float64\n",
      " 4   TOTAL_REVENUE                 1275 non-null   float64\n",
      " 5   FEDERAL_REVENUE               1275 non-null   float64\n",
      " 6   STATE_REVENUE                 1275 non-null   float64\n",
      " 7   LOCAL_REVENUE                 1275 non-null   float64\n",
      " 8   TOTAL_EXPENDITURE             1275 non-null   float64\n",
      " 9   INSTRUCTION_EXPENDITURE       1275 non-null   float64\n",
      " 10  SUPPORT_SERVICES_EXPENDITURE  1275 non-null   float64\n",
      " 11  OTHER_EXPENDITURE             1224 non-null   float64\n",
      " 12  CAPITAL_OUTLAY_EXPENDITURE    1275 non-null   float64\n",
      " 13  GRADES_PK_G                   1542 non-null   float64\n",
      " 14  GRADES_KG_G                   1632 non-null   float64\n",
      " 15  GRADES_4_G                    1632 non-null   float64\n",
      " 16  GRADES_8_G                    1632 non-null   float64\n",
      " 17  GRADES_12_G                   1632 non-null   float64\n",
      " 18  GRADES_1_8_G                  1020 non-null   float64\n",
      " 19  GRADES_9_12_G                 1071 non-null   float64\n",
      " 20  GRADES_ALL_G                  1632 non-null   float64\n",
      " 21  AVG_MATH_4_SCORE              565 non-null    float64\n",
      " 22  AVG_MATH_8_SCORE              602 non-null    float64\n",
      " 23  AVG_READING_4_SCORE           650 non-null    float64\n",
      " 24  AVG_READING_8_SCORE           562 non-null    float64\n",
      "dtypes: float64(22), int64(1), object(2)\n",
      "memory usage: 335.1+ KB\n"
     ]
    }
   ],
   "source": [
    "df_states.info()"
   ]
  },
  {
   "cell_type": "markdown",
   "id": "a000036d",
   "metadata": {},
   "source": [
    "- Pandas dataframe.interpolate() function will be used to fill NA values in the dataframe."
   ]
  },
  {
   "cell_type": "code",
   "execution_count": 6,
   "id": "e7164fdc",
   "metadata": {},
   "outputs": [],
   "source": [
    "df_filled = df_states.interpolate(method ='linear', limit_direction ='both')"
   ]
  },
  {
   "cell_type": "markdown",
   "id": "1255e8d9",
   "metadata": {},
   "source": [
    "- Identify Missing Values of dataframe Pandas isnull() function."
   ]
  },
  {
   "cell_type": "code",
   "execution_count": 7,
   "id": "484492fd",
   "metadata": {},
   "outputs": [
    {
     "data": {
      "text/plain": [
       "PRIMARY_KEY                     0.0\n",
       "STATE                           0.0\n",
       "YEAR                            0.0\n",
       "ENROLL                          0.0\n",
       "TOTAL_REVENUE                   0.0\n",
       "FEDERAL_REVENUE                 0.0\n",
       "STATE_REVENUE                   0.0\n",
       "LOCAL_REVENUE                   0.0\n",
       "TOTAL_EXPENDITURE               0.0\n",
       "INSTRUCTION_EXPENDITURE         0.0\n",
       "SUPPORT_SERVICES_EXPENDITURE    0.0\n",
       "OTHER_EXPENDITURE               0.0\n",
       "CAPITAL_OUTLAY_EXPENDITURE      0.0\n",
       "GRADES_PK_G                     0.0\n",
       "GRADES_KG_G                     0.0\n",
       "GRADES_4_G                      0.0\n",
       "GRADES_8_G                      0.0\n",
       "GRADES_12_G                     0.0\n",
       "GRADES_1_8_G                    0.0\n",
       "GRADES_9_12_G                   0.0\n",
       "GRADES_ALL_G                    0.0\n",
       "AVG_MATH_4_SCORE                0.0\n",
       "AVG_MATH_8_SCORE                0.0\n",
       "AVG_READING_4_SCORE             0.0\n",
       "AVG_READING_8_SCORE             0.0\n",
       "dtype: float64"
      ]
     },
     "execution_count": 7,
     "metadata": {},
     "output_type": "execute_result"
    }
   ],
   "source": [
    "df_filled.isnull().sum()*100/df_filled.isnull().count()"
   ]
  },
  {
   "cell_type": "markdown",
   "id": "caa215fb",
   "metadata": {},
   "source": [
    "#### 1. Consider the two variables: TOTAL_REVENUE and TOTAL_EXPENDITURE. Do these variables have outlier values?"
   ]
  },
  {
   "cell_type": "code",
   "execution_count": 8,
   "id": "11791e3e",
   "metadata": {},
   "outputs": [],
   "source": [
    "import matplotlib.pyplot as plt\n",
    "import numpy as np\n",
    "import pandas as pd\n",
    "import warnings\n",
    "warnings.filterwarnings(\"ignore\")\n",
    "plt.rcParams['figure.dpi'] = 100\n",
    "plt.rcParams['figure.figsize'] = (10,5)"
   ]
  },
  {
   "cell_type": "markdown",
   "id": "20345c83",
   "metadata": {},
   "source": [
    "- Plotting Histograms"
   ]
  },
  {
   "cell_type": "code",
   "execution_count": 9,
   "id": "d5232563",
   "metadata": {},
   "outputs": [
    {
     "data": {
      "image/png": "[encoded data removed]",
      "text/plain": [
       "<Figure size 1000x500 with 1 Axes>"
      ]
     },
     "metadata": {},
     "output_type": "display_data"
    }
   ],
   "source": [
    "\n",
    "plt.hist(df_states['TOTAL_REVENUE'])\n",
    "plt.title('REVENUE')\n",
    "plt.show()"
   ]
  },
  {
   "cell_type": "code",
   "execution_count": 10,
   "id": "72ad4ec3",
   "metadata": {},
   "outputs": [
    {
     "data": {
      "image/png": "[encoded data removed]",
      "text/plain": [
       "<Figure size 1000x500 with 1 Axes>"
      ]
     },
     "metadata": {},
     "output_type": "display_data"
    }
   ],
   "source": [
    "plt.hist(df_states['TOTAL_EXPENDITURE'])\n",
    "plt.title('EXPENDITURE')\n",
    "plt.show()"
   ]
  },
  {
   "cell_type": "markdown",
   "id": "cb01de09",
   "metadata": {},
   "source": [
    "- Plotting Box and Whisker Plots"
   ]
  },
  {
   "cell_type": "code",
   "execution_count": 11,
   "id": "0fafc677",
   "metadata": {},
   "outputs": [
    {
     "data": {
      "image/png": "[encoded data removed]",
      "text/plain": [
       "<Figure size 1000x500 with 1 Axes>"
      ]
     },
     "metadata": {},
     "output_type": "display_data"
    }
   ],
   "source": [
    "plt.boxplot(df_filled['TOTAL_REVENUE'])\n",
    "plt.show()"
   ]
  },
  {
   "cell_type": "code",
   "execution_count": 12,
   "id": "d61acf58",
   "metadata": {},
   "outputs": [
    {
     "data": {
      "image/png": "[encoded data removed]",
      "text/plain": [
       "<Figure size 1000x500 with 1 Axes>"
      ]
     },
     "metadata": {},
     "output_type": "display_data"
    }
   ],
   "source": [
    "plt.boxplot(df_filled['TOTAL_EXPENDITURE'])\n",
    "plt.show()"
   ]
  },
  {
   "cell_type": "markdown",
   "id": "2d5c40e5",
   "metadata": {},
   "source": [
    "- Appling Statistical Tools in Detecting the Outliers"
   ]
  },
  {
   "cell_type": "code",
   "execution_count": 15,
   "id": "dcc3f619",
   "metadata": {},
   "outputs": [],
   "source": [
    "from scipy.stats import zscore"
   ]
  },
  {
   "cell_type": "markdown",
   "id": "3e84a579",
   "metadata": {},
   "source": [
    "- The Outliers of TOTAL_REVENUE"
   ]
  },
  {
   "cell_type": "code",
   "execution_count": 16,
   "id": "3a2cf665",
   "metadata": {},
   "outputs": [],
   "source": [
    "zscore_TR = zscore(df_filled['TOTAL_REVENUE'])"
   ]
  },
  {
   "cell_type": "code",
   "execution_count": 30,
   "id": "ec5915fd",
   "metadata": {
    "scrolled": true
   },
   "outputs": [
    {
     "name": "stdout",
     "output_type": "stream",
     "text": [
      "The score threshold is: 1\n",
      "The indices of the outliers:\n",
      "(array([   4,   32,   55,   83,   94,  106,  134,  145,  157,  185,  196,\n",
      "        208,  236,  247,  259,  287,  298,  310,  338,  349,  361,  389,\n",
      "        400,  412,  440,  451,  463,  468,  472,  491,  502,  514,  519,\n",
      "        523,  532,  540,  542,  548,  553,  565,  570,  574,  583,  591,\n",
      "        593,  596,  599,  604,  616,  621,  625,  634,  642,  644,  647,\n",
      "        650,  655,  667,  672,  676,  685,  693,  695,  698,  701,  706,\n",
      "        718,  723,  727,  736,  744,  746,  749,  752,  757,  769,  774,\n",
      "        778,  787,  795,  797,  800,  803,  808,  820,  825,  826,  829,\n",
      "        838,  846,  848,  851,  854,  859,  871,  876,  877,  880,  889,\n",
      "        897,  899,  902,  905,  910,  922,  927,  931,  940,  948,  950,\n",
      "        953,  956,  961,  973,  978,  979,  982,  991,  999, 1001, 1004,\n",
      "       1007, 1012, 1024, 1029, 1033, 1042, 1050, 1052, 1055, 1058, 1063,\n",
      "       1075, 1080, 1084, 1093, 1101, 1103, 1106, 1109, 1114, 1126, 1131,\n",
      "       1135, 1144, 1152, 1154, 1157, 1160, 1165, 1177, 1182, 1183, 1186,\n",
      "       1195, 1203, 1205, 1208, 1211, 1216, 1228, 1233, 1234, 1237, 1246,\n",
      "       1254, 1256, 1259, 1262, 1267]),)\n",
      "Number of outliers is : 170\n",
      "___________________________________________________________________________\n",
      "The score threshold is: 2\n",
      "The indices of the outliers:\n",
      "(array([ 157,  208,  259,  310,  361,  389,  412,  440,  451,  463,  491,\n",
      "        502,  514,  542,  553,  565,  593,  604,  616,  644,  655,  667,\n",
      "        695,  706,  718,  746,  757,  769,  774,  797,  808,  820,  825,\n",
      "        848,  859,  871,  899,  910,  922,  950,  961,  973,  982, 1001,\n",
      "       1007, 1012, 1024, 1033, 1052, 1063, 1075, 1084, 1103, 1109, 1114,\n",
      "       1126, 1135, 1154, 1160, 1165, 1177, 1186, 1203, 1205, 1211, 1216,\n",
      "       1228, 1237, 1254, 1256, 1262, 1267]),)\n",
      "Number of outliers is : 72\n",
      "___________________________________________________________________________\n",
      "The score threshold is: 3\n",
      "The indices of the outliers:\n",
      "(array([ 310,  361,  412,  463,  514,  565,  616,  644,  667,  695,  718,\n",
      "        746,  757,  769,  797,  808,  820,  848,  859,  871,  899,  910,\n",
      "        922,  950,  961,  973, 1001, 1012, 1024, 1052, 1063, 1075, 1103,\n",
      "       1114, 1126, 1154, 1165, 1177, 1205, 1216, 1228, 1256, 1267]),)\n",
      "Number of outliers is : 43\n",
      "___________________________________________________________________________\n",
      "The score threshold is: 4\n",
      "The indices of the outliers:\n",
      "(array([ 463,  514,  565,  616,  667,  718,  769,  797,  820,  848,  871,\n",
      "        899,  922,  950,  961,  973, 1001, 1012, 1024, 1052, 1063, 1075,\n",
      "       1103, 1114, 1126, 1154, 1165, 1177, 1205, 1216, 1228, 1256, 1267]),)\n",
      "Number of outliers is : 33\n",
      "___________________________________________________________________________\n"
     ]
    }
   ],
   "source": [
    "for i in range(1,5):\n",
    "    print('The score threshold is: {}'.format(i))\n",
    "    print('The indices of the outliers:')\n",
    "    print(np.where(zscore_TR>i))\n",
    "    print('Number of outliers is : {}'.format(len(np.where(zscore_TR>i)[0])))\n",
    "    print('_'*75)"
   ]
  },
  {
   "cell_type": "markdown",
   "id": "0980155c",
   "metadata": {},
   "source": [
    "- The Outliers of TOTAL_EXPENDITURE"
   ]
  },
  {
   "cell_type": "code",
   "execution_count": 32,
   "id": "c6350999",
   "metadata": {},
   "outputs": [],
   "source": [
    "zscore_TE = zscore(df_filled['TOTAL_EXPENDITURE'])"
   ]
  },
  {
   "cell_type": "code",
   "execution_count": 34,
   "id": "3e1833b4",
   "metadata": {},
   "outputs": [
    {
     "name": "stdout",
     "output_type": "stream",
     "text": [
      "The score threshold is: 1\n",
      "The indices of the outliers:\n",
      "(array([   4,   32,   55,   83,   94,  106,  134,  145,  157,  185,  196,\n",
      "        208,  236,  247,  259,  287,  298,  310,  338,  349,  361,  389,\n",
      "        400,  412,  440,  451,  463,  468,  472,  491,  497,  502,  514,\n",
      "        519,  523,  532,  542,  548,  553,  565,  570,  574,  583,  591,\n",
      "        593,  596,  599,  604,  616,  621,  625,  634,  642,  644,  647,\n",
      "        650,  655,  667,  672,  676,  685,  693,  695,  698,  701,  706,\n",
      "        718,  723,  727,  736,  744,  746,  749,  752,  757,  769,  774,\n",
      "        778,  787,  795,  797,  800,  803,  808,  820,  825,  826,  829,\n",
      "        838,  846,  848,  851,  854,  859,  871,  876,  877,  880,  889,\n",
      "        897,  899,  902,  905,  910,  922,  927,  931,  940,  948,  950,\n",
      "        953,  956,  961,  973,  978,  982,  991,  999, 1001, 1004, 1007,\n",
      "       1012, 1024, 1029, 1033, 1050, 1052, 1055, 1058, 1063, 1075, 1080,\n",
      "       1084, 1101, 1103, 1106, 1109, 1114, 1126, 1131, 1135, 1152, 1154,\n",
      "       1157, 1160, 1165, 1177, 1182, 1183, 1186, 1203, 1205, 1208, 1211,\n",
      "       1216, 1228, 1233, 1234, 1237, 1254, 1256, 1259, 1262, 1267]),)\n",
      "Number of Outliers is: 164\n",
      "---------------------------------------------------------------------------\n",
      "The score threshold is: 2\n",
      "The indices of the outliers:\n",
      "(array([ 157,  208,  259,  310,  338,  361,  389,  412,  440,  451,  463,\n",
      "        491,  502,  514,  542,  553,  565,  593,  604,  616,  644,  655,\n",
      "        667,  695,  706,  718,  746,  757,  769,  774,  797,  808,  820,\n",
      "        825,  848,  859,  871,  899,  910,  922,  950,  961,  973, 1001,\n",
      "       1012, 1024, 1033, 1052, 1063, 1075, 1084, 1103, 1114, 1126, 1135,\n",
      "       1154, 1165, 1177, 1186, 1205, 1211, 1216, 1228, 1237, 1254, 1256,\n",
      "       1262, 1267]),)\n",
      "Number of Outliers is: 68\n",
      "---------------------------------------------------------------------------\n",
      "The score threshold is: 3\n",
      "The indices of the outliers:\n",
      "(array([ 361,  412,  463,  514,  565,  593,  616,  644,  667,  695,  706,\n",
      "        718,  746,  757,  769,  797,  808,  820,  848,  859,  871,  899,\n",
      "        910,  922,  950,  961,  973, 1001, 1012, 1024, 1052, 1063, 1075,\n",
      "       1103, 1114, 1126, 1154, 1165, 1177, 1205, 1216, 1228, 1256, 1267]),)\n",
      "Number of Outliers is: 44\n",
      "---------------------------------------------------------------------------\n",
      "The score threshold is: 4\n",
      "The indices of the outliers:\n",
      "(array([ 463,  514,  565,  616,  667,  718,  769,  797,  820,  848,  871,\n",
      "        899,  910,  922,  950,  961,  973, 1001, 1012, 1024, 1052, 1075,\n",
      "       1103, 1114, 1126, 1154, 1165, 1177, 1205, 1216, 1228, 1256, 1267]),)\n",
      "Number of Outliers is: 33\n",
      "---------------------------------------------------------------------------\n"
     ]
    }
   ],
   "source": [
    "for i in range(1,5):\n",
    "    print('The score threshold is: {}'.format(i))\n",
    "    print('The indices of the outliers:')\n",
    "    print(np.where(zscore_TE>i))\n",
    "    print('Number of Outliers is: {}'.format(len(np.where(zscore_TE>i)[0])))\n",
    "    print('-'*75)"
   ]
  },
  {
   "cell_type": "markdown",
   "id": "1469a13f",
   "metadata": {},
   "source": [
    "#### 2.If you detect outliers in the TOTAL_REVENUE and TOTAL_EXPENDITURE variables, apply the techniques you learned in this checkpoint to eliminate them and validate that there are no outlier values after you handled them."
   ]
  },
  {
   "cell_type": "code",
   "execution_count": null,
   "id": "df2219af",
   "metadata": {},
   "outputs": [],
   "source": []
  },
  {
   "cell_type": "code",
   "execution_count": null,
   "id": "2f98b01e",
   "metadata": {},
   "outputs": [],
   "source": []
  },
  {
   "cell_type": "code",
   "execution_count": null,
   "id": "d03edcbc",
   "metadata": {},
   "outputs": [],
   "source": []
  },
  {
   "cell_type": "code",
   "execution_count": null,
   "id": "f82ba4e4",
   "metadata": {},
   "outputs": [],
   "source": []
  },
  {
   "cell_type": "code",
   "execution_count": null,
   "id": "e8926cf6",
   "metadata": {},
   "outputs": [],
   "source": []
  },
  {
   "cell_type": "code",
   "execution_count": null,
   "id": "26e053d0",
   "metadata": {},
   "outputs": [],
   "source": []
  }
 ],
 "metadata": {
  "kernelspec": {
   "display_name": "Python 3 (ipykernel)",
   "language": "python",
   "name": "python3"
  },
  "language_info": {
   "codemirror_mode": {
    "name": "ipython",
    "version": 3
   },
   "file_extension": ".py",
   "mimetype": "text/x-python",
   "name": "python",
   "nbconvert_exporter": "python",
   "pygments_lexer": "ipython3",
   "version": "3.9.13"
  }
 },
 "nbformat": 4,
 "nbformat_minor": 5
}
